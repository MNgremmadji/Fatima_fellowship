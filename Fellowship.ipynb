{
  "nbformat": 4,
  "nbformat_minor": 0,
  "metadata": {
    "accelerator": "GPU",
    "colab": {
      "name": "Fellowship.ipynb",
      "provenance": []
    },
    "kernelspec": {
      "display_name": "Python 3",
      "name": "python3"
    }
  },
  "cells": [
    {
      "cell_type": "markdown",
      "metadata": {
        "id": "I7yTPKQde4Tn"
      },
      "source": [
        "## Deep Learning NLP\r\n",
        "This coding challenge is about fake news classification. We will train classification model in order to classify news. The outline of this work is as follow:\r\n",
        "\r\n",
        "- Loading the dataset\r\n",
        "-  Loading librairies\r\n",
        "- Exploring the dataset\r\n",
        "- Splitting the dataset\r\n",
        "- Processing the dataset\r\n",
        "- Using word2vec for features representation\r\n",
        "- Applying Naive Bayes algorithm"
      ]
    },
    {
      "cell_type": "markdown",
      "metadata": {
        "id": "nOyWAedp1GKc"
      },
      "source": [
        "Author: Mbaimou Auxence NGREMMADJI"
      ]
    },
    {
      "cell_type": "markdown",
      "metadata": {
        "id": "01gKh-QnV3Am"
      },
      "source": [
        "## Loading the dataset\r\n",
        "\r\n",
        "We use kaggle API for uploading the dataset."
      ]
    },
    {
      "cell_type": "code",
      "metadata": {
        "colab": {
          "resources": {
            "http://localhost:8080/nbextensions/google.colab/files.js": {
              "data": "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",
              "headers": [
                [
                  "content-type",
                  "application/javascript"
                ]
              ],
              "ok": true,
              "status": 200,
              "status_text": ""
            }
          },
          "base_uri": "https://localhost:8080/",
          "height": 90
        },
        "id": "fug58DREfAnB",
        "outputId": "ab13f7fb-0eb4-4328-fd3c-0a810fe74189"
      },
      "source": [
        "## installing kaggle and uploading kaggle.json file. \r\n",
        "!pip install -q kaggle\r\n",
        "from google.colab import files\r\n",
        "files.upload()"
      ],
      "execution_count": null,
      "outputs": [
        {
          "output_type": "display_data",
          "data": {
            "text/html": [
              "\n",
              "     <input type=\"file\" id=\"files-f92d2fc7-e2f6-4e38-b39b-5fc0c90d2424\" name=\"files[]\" multiple disabled\n",
              "        style=\"border:none\" />\n",
              "     <output id=\"result-f92d2fc7-e2f6-4e38-b39b-5fc0c90d2424\">\n",
              "      Upload widget is only available when the cell has been executed in the\n",
              "      current browser session. Please rerun this cell to enable.\n",
              "      </output>\n",
              "      <script src=\"/nbextensions/google.colab/files.js\"></script> "
            ],
            "text/plain": [
              "<IPython.core.display.HTML object>"
            ]
          },
          "metadata": {
            "tags": []
          }
        },
        {
          "output_type": "stream",
          "text": [
            "Saving kaggle.json to kaggle (1).json\n"
          ],
          "name": "stdout"
        },
        {
          "output_type": "execute_result",
          "data": {
            "text/plain": [
              "{'kaggle.json': b'{\"username\":\"oxpunch\",\"key\":\"08d1808f51ec966449b5b8b85b0b4c69\"}'}"
            ]
          },
          "metadata": {
            "tags": []
          },
          "execution_count": 64
        }
      ]
    },
    {
      "cell_type": "code",
      "metadata": {
        "colab": {
          "base_uri": "https://localhost:8080/"
        },
        "id": "BA5bp1nwhbO1",
        "outputId": "c3492265-95ac-4345-ca5d-0fc9523fea3e"
      },
      "source": [
        "# Creating a directory\r\n",
        "!mkdir ~/.kaggle\r\n",
        "# Copying kaggle.json in that directory \r\n",
        "!cp kaggle.json ~/.kaggle/\r\n",
        "# Changing the permission \r\n",
        "! chmod 600 ~/.kaggle/kaggle.json\r\n",
        "# Downloading the dataset\r\n",
        "!kaggle datasets download -d clmentbisaillon/fake-and-real-news-dataset"
      ],
      "execution_count": null,
      "outputs": [
        {
          "output_type": "stream",
          "text": [
            "mkdir: cannot create directory ‘/root/.kaggle’: File exists\n",
            "fake-and-real-news-dataset.zip: Skipping, found more recently modified local copy (use --force to force download)\n"
          ],
          "name": "stdout"
        }
      ]
    },
    {
      "cell_type": "code",
      "metadata": {
        "id": "huhnAxyOmHl2"
      },
      "source": [
        "# Unzipping the dataset\r\n",
        "!unzip -q  fake-and-real-news-dataset.zip "
      ],
      "execution_count": null,
      "outputs": []
    },
    {
      "cell_type": "markdown",
      "metadata": {
        "id": "d9QfQHC8ZHlu"
      },
      "source": [
        "## Loading librairies"
      ]
    },
    {
      "cell_type": "code",
      "metadata": {
        "colab": {
          "base_uri": "https://localhost:8080/"
        },
        "id": "9SfH4J7UyjTQ",
        "outputId": "3f3113ee-81b1-437a-a1de-0cd41e7fa359"
      },
      "source": [
        "# For lemmatization\r\n",
        "from nltk.stem import WordNetLemmatizer\r\n",
        "# For tokenization\r\n",
        "from nltk import sent_tokenize\r\n",
        "# For regular expression\r\n",
        "import re\r\n",
        "nltk.download('punkt')\r\n",
        "nltk.download('wordnet')\r\n",
        "# Stop words\r\n",
        "nltk.download('stopwords')\r\n",
        "from nltk.corpus import stopwords\r\n",
        "# dealing with operating system\r\n",
        "import os\r\n",
        "# natural  language toolkit\r\n",
        "import nltk\r\n",
        "# word2vec \r\n",
        "from gensim.models import word2vec\r\n",
        "# math (array, matrix, etc)\r\n",
        "import numpy as np\r\n",
        "# for modelling\r\n",
        "from sklearn.linear_model import LogisticRegression\r\n",
        "# plotting\r\n",
        "from matplotlib import pyplot as plt\r\n",
        "# DataFrame\r\n",
        "import pandas as pd\r\n",
        "# For splitting the dataset\r\n",
        "from sklearn.model_selection import train_test_split\r\n",
        "# for scoring\r\n",
        "from sklearn.metrics import  accuracy_score, roc_curve\r\n",
        "from sklearn import  metrics\r\n",
        "# For data visualization\r\n",
        "import seaborn as sn\r\n",
        "# For handling string\r\n",
        "import string\r\n",
        "%matplotlib inline"
      ],
      "execution_count": null,
      "outputs": [
        {
          "output_type": "stream",
          "text": [
            "[nltk_data] Downloading package punkt to /root/nltk_data...\n",
            "[nltk_data]   Package punkt is already up-to-date!\n",
            "[nltk_data] Downloading package wordnet to /root/nltk_data...\n",
            "[nltk_data]   Package wordnet is already up-to-date!\n",
            "[nltk_data] Downloading package stopwords to /root/nltk_data...\n",
            "[nltk_data]   Package stopwords is already up-to-date!\n"
          ],
          "name": "stdout"
        }
      ]
    },
    {
      "cell_type": "markdown",
      "metadata": {
        "id": "-Exoz0B2ZkRz"
      },
      "source": [
        "## Exploring the dataset"
      ]
    },
    {
      "cell_type": "code",
      "metadata": {
        "id": "SXPUuk8opeYu"
      },
      "source": [
        "true_news =  pd.read_csv('True.csv')\r\n",
        "fake_news =  pd.read_csv('Fake.csv')"
      ],
      "execution_count": null,
      "outputs": []
    },
    {
      "cell_type": "code",
      "metadata": {
        "colab": {
          "base_uri": "https://localhost:8080/"
        },
        "id": "z0HEV7C_uCUS",
        "outputId": "fdfca006-a56c-4391-817b-5e861e5ca05d"
      },
      "source": [
        "## The shape of the dataset\r\n",
        "print('The shape of true_news dataset is {}.'.format(true_news.shape))\r\n",
        "print('The shape of fake_news dataset is {}.'.format(fake_news.shape))"
      ],
      "execution_count": null,
      "outputs": [
        {
          "output_type": "stream",
          "text": [
            "The shape of true_news dataset is (21417, 4).\n",
            "The shape of fake_news dataset is (23481, 4).\n"
          ],
          "name": "stdout"
        }
      ]
    },
    {
      "cell_type": "code",
      "metadata": {
        "colab": {
          "base_uri": "https://localhost:8080/",
          "height": 195
        },
        "id": "uHE6kNIPtuh8",
        "outputId": "43549c7f-1801-4595-ad8b-a4d862fa5cd3"
      },
      "source": [
        "# sample of the true_news\r\n",
        "true_news.sample(5)"
      ],
      "execution_count": null,
      "outputs": [
        {
          "output_type": "execute_result",
          "data": {
            "text/html": [
              "<div>\n",
              "<style scoped>\n",
              "    .dataframe tbody tr th:only-of-type {\n",
              "        vertical-align: middle;\n",
              "    }\n",
              "\n",
              "    .dataframe tbody tr th {\n",
              "        vertical-align: top;\n",
              "    }\n",
              "\n",
              "    .dataframe thead th {\n",
              "        text-align: right;\n",
              "    }\n",
              "</style>\n",
              "<table border=\"1\" class=\"dataframe\">\n",
              "  <thead>\n",
              "    <tr style=\"text-align: right;\">\n",
              "      <th></th>\n",
              "      <th>title</th>\n",
              "      <th>text</th>\n",
              "      <th>subject</th>\n",
              "      <th>date</th>\n",
              "    </tr>\n",
              "  </thead>\n",
              "  <tbody>\n",
              "    <tr>\n",
              "      <th>7466</th>\n",
              "      <td>Greece's Golden Dawn says Trump win a victory ...</td>\n",
              "      <td>ATHENS (Reuters) - Greece’s far-right Golden D...</td>\n",
              "      <td>politicsNews</td>\n",
              "      <td>November 9, 2016</td>\n",
              "    </tr>\n",
              "    <tr>\n",
              "      <th>15142</th>\n",
              "      <td>Kosovo says 'false' arrest warrant for PM unde...</td>\n",
              "      <td>PRISTINA (Reuters) - Kosovo accused Serbia of ...</td>\n",
              "      <td>worldnews</td>\n",
              "      <td>November 10, 2017</td>\n",
              "    </tr>\n",
              "    <tr>\n",
              "      <th>4566</th>\n",
              "      <td>House Speaker Ryan understands Trump's frustra...</td>\n",
              "      <td>WASHINGTON (Reuters) - U.S. House of Represent...</td>\n",
              "      <td>politicsNews</td>\n",
              "      <td>March 30, 2017</td>\n",
              "    </tr>\n",
              "    <tr>\n",
              "      <th>18903</th>\n",
              "      <td>Iraqi parliament asks leader Abadi to take bac...</td>\n",
              "      <td>BAGHDAD (Reuters) - The Iraqi parliament on We...</td>\n",
              "      <td>worldnews</td>\n",
              "      <td>September 27, 2017</td>\n",
              "    </tr>\n",
              "    <tr>\n",
              "      <th>10117</th>\n",
              "      <td>Biden, Ukraine's Poroshenko to meet Thursday: ...</td>\n",
              "      <td>WASHINGTON (Reuters) - U.S. Vice President Joe...</td>\n",
              "      <td>politicsNews</td>\n",
              "      <td>March 30, 2016</td>\n",
              "    </tr>\n",
              "  </tbody>\n",
              "</table>\n",
              "</div>"
            ],
            "text/plain": [
              "                                                   title  ...                 date\n",
              "7466   Greece's Golden Dawn says Trump win a victory ...  ...    November 9, 2016 \n",
              "15142  Kosovo says 'false' arrest warrant for PM unde...  ...   November 10, 2017 \n",
              "4566   House Speaker Ryan understands Trump's frustra...  ...      March 30, 2017 \n",
              "18903  Iraqi parliament asks leader Abadi to take bac...  ...  September 27, 2017 \n",
              "10117  Biden, Ukraine's Poroshenko to meet Thursday: ...  ...      March 30, 2016 \n",
              "\n",
              "[5 rows x 4 columns]"
            ]
          },
          "metadata": {
            "tags": []
          },
          "execution_count": 228
        }
      ]
    },
    {
      "cell_type": "code",
      "metadata": {
        "colab": {
          "base_uri": "https://localhost:8080/",
          "height": 195
        },
        "id": "2ygbTqSWw6Dp",
        "outputId": "f20bb985-0e54-4a08-9f84-1ad4ba09e4a6"
      },
      "source": [
        "# sample of the fake_news\r\n",
        "fake_news.sample(5)"
      ],
      "execution_count": null,
      "outputs": [
        {
          "output_type": "execute_result",
          "data": {
            "text/html": [
              "<div>\n",
              "<style scoped>\n",
              "    .dataframe tbody tr th:only-of-type {\n",
              "        vertical-align: middle;\n",
              "    }\n",
              "\n",
              "    .dataframe tbody tr th {\n",
              "        vertical-align: top;\n",
              "    }\n",
              "\n",
              "    .dataframe thead th {\n",
              "        text-align: right;\n",
              "    }\n",
              "</style>\n",
              "<table border=\"1\" class=\"dataframe\">\n",
              "  <thead>\n",
              "    <tr style=\"text-align: right;\">\n",
              "      <th></th>\n",
              "      <th>title</th>\n",
              "      <th>text</th>\n",
              "      <th>subject</th>\n",
              "      <th>date</th>\n",
              "    </tr>\n",
              "  </thead>\n",
              "  <tbody>\n",
              "    <tr>\n",
              "      <th>3148</th>\n",
              "      <td>House Republicans Give Themselves The Power T...</td>\n",
              "      <td>It s only been a couple days since Republicans...</td>\n",
              "      <td>News</td>\n",
              "      <td>January 5, 2017</td>\n",
              "    </tr>\n",
              "    <tr>\n",
              "      <th>4872</th>\n",
              "      <td>The N-Word Flies As Racists Attack 49er’s Qua...</td>\n",
              "      <td>Just remember, Donald Trump s campaign is supp...</td>\n",
              "      <td>News</td>\n",
              "      <td>August 27, 2016</td>\n",
              "    </tr>\n",
              "    <tr>\n",
              "      <th>13967</th>\n",
              "      <td>WATCH 8TH Grader DESTROY Disgraced Detroit Cit...</td>\n",
              "      <td>Watching this video will help anyone who is cu...</td>\n",
              "      <td>politics</td>\n",
              "      <td>May 6, 2016</td>\n",
              "    </tr>\n",
              "    <tr>\n",
              "      <th>17442</th>\n",
              "      <td>NOT NEWS: [Graphic Video] Michigan Woman Runs ...</td>\n",
              "      <td>This is a story that will never make the news....</td>\n",
              "      <td>Government News</td>\n",
              "      <td>Apr 9, 2015</td>\n",
              "    </tr>\n",
              "    <tr>\n",
              "      <th>17858</th>\n",
              "      <td>NANCY PELOSI Thanks Dreamers for Coming to U.S...</td>\n",
              "      <td>This is what Democrats think of people who bro...</td>\n",
              "      <td>left-news</td>\n",
              "      <td>Oct 5, 2017</td>\n",
              "    </tr>\n",
              "  </tbody>\n",
              "</table>\n",
              "</div>"
            ],
            "text/plain": [
              "                                                   title  ...             date\n",
              "3148    House Republicans Give Themselves The Power T...  ...  January 5, 2017\n",
              "4872    The N-Word Flies As Racists Attack 49er’s Qua...  ...  August 27, 2016\n",
              "13967  WATCH 8TH Grader DESTROY Disgraced Detroit Cit...  ...      May 6, 2016\n",
              "17442  NOT NEWS: [Graphic Video] Michigan Woman Runs ...  ...      Apr 9, 2015\n",
              "17858  NANCY PELOSI Thanks Dreamers for Coming to U.S...  ...      Oct 5, 2017\n",
              "\n",
              "[5 rows x 4 columns]"
            ]
          },
          "metadata": {
            "tags": []
          },
          "execution_count": 229
        }
      ]
    },
    {
      "cell_type": "code",
      "metadata": {
        "colab": {
          "base_uri": "https://localhost:8080/"
        },
        "id": "0EIjYTTAxXht",
        "outputId": "fb8c80d8-d513-4903-d462-c233fd605b09"
      },
      "source": [
        "# Missing values in true_news:\r\n",
        "true_news.isnull().sum()"
      ],
      "execution_count": null,
      "outputs": [
        {
          "output_type": "execute_result",
          "data": {
            "text/plain": [
              "title      0\n",
              "text       0\n",
              "subject    0\n",
              "date       0\n",
              "dtype: int64"
            ]
          },
          "metadata": {
            "tags": []
          },
          "execution_count": 230
        }
      ]
    },
    {
      "cell_type": "code",
      "metadata": {
        "colab": {
          "base_uri": "https://localhost:8080/"
        },
        "id": "if7zmYS7xb4J",
        "outputId": "15621ff2-864b-4da3-812d-81d0016a043a"
      },
      "source": [
        "fake_news.isnull().sum()"
      ],
      "execution_count": null,
      "outputs": [
        {
          "output_type": "execute_result",
          "data": {
            "text/plain": [
              "title      0\n",
              "text       0\n",
              "subject    0\n",
              "date       0\n",
              "dtype: int64"
            ]
          },
          "metadata": {
            "tags": []
          },
          "execution_count": 231
        }
      ]
    },
    {
      "cell_type": "code",
      "metadata": {
        "colab": {
          "base_uri": "https://localhost:8080/"
        },
        "id": "z7q1g7NBy4bR",
        "outputId": "ca4bcc62-2865-419d-dfda-0d5a87b6ec61"
      },
      "source": [
        "# Number of duplicated observations in the true_news.\r\n",
        "true_news.duplicated().sum()"
      ],
      "execution_count": null,
      "outputs": [
        {
          "output_type": "execute_result",
          "data": {
            "text/plain": [
              "206"
            ]
          },
          "metadata": {
            "tags": []
          },
          "execution_count": 232
        }
      ]
    },
    {
      "cell_type": "code",
      "metadata": {
        "colab": {
          "base_uri": "https://localhost:8080/"
        },
        "id": "Q4KiLoyKzCgk",
        "outputId": "8acd04a3-ad48-4c55-822b-883a6b7a19cd"
      },
      "source": [
        "# Number of duplicated observations in the fake_news dataset.\r\n",
        "fake_news.duplicated().sum()"
      ],
      "execution_count": null,
      "outputs": [
        {
          "output_type": "execute_result",
          "data": {
            "text/plain": [
              "3"
            ]
          },
          "metadata": {
            "tags": []
          },
          "execution_count": 233
        }
      ]
    },
    {
      "cell_type": "code",
      "metadata": {
        "id": "PhtHb9yfzQB9"
      },
      "source": [
        "# We drop duplicated observations in true_news dataset.\r\n",
        "true_news.drop_duplicates(inplace= True)\r\n",
        "fake_news.drop_duplicates(inplace= True)"
      ],
      "execution_count": null,
      "outputs": []
    },
    {
      "cell_type": "code",
      "metadata": {
        "colab": {
          "base_uri": "https://localhost:8080/",
          "height": 660
        },
        "id": "mUeK4Wqdw_Hu",
        "outputId": "1a80764a-382e-48d8-acb1-0abb00819d38"
      },
      "source": [
        "## Visualization of type of subject in fake_news dataset.\r\n",
        "plt.figure(figsize=(10,10))\r\n",
        "sn.countplot(fake_news['subject'], x= fake_news)\r\n",
        "plt.show()"
      ],
      "execution_count": null,
      "outputs": [
        {
          "output_type": "stream",
          "text": [
            "/usr/local/lib/python3.7/dist-packages/seaborn/_decorators.py:43: FutureWarning: Pass the following variable as a keyword arg: x. From version 0.12, the only valid positional argument will be `data`, and passing other arguments without an explicit keyword will result in an error or misinterpretation.\n",
            "  FutureWarning\n"
          ],
          "name": "stderr"
        },
        {
          "output_type": "display_data",
          "data": {
            "image/png": "[encoded data removed]",
            "text/plain": [
              "<Figure size 720x720 with 1 Axes>"
            ]
          },
          "metadata": {
            "tags": [],
            "needs_background": "light"
          }
        }
      ]
    },
    {
      "cell_type": "code",
      "metadata": {
        "colab": {
          "base_uri": "https://localhost:8080/",
          "height": 333
        },
        "id": "wj9kHv9002qH",
        "outputId": "6dca692f-7eb1-45d7-fbe2-42774fb3a133"
      },
      "source": [
        "## Visualization for true_news.\r\n",
        "plt.figure()\r\n",
        "sn.countplot(true_news['subject'], x= fake_news)\r\n",
        "plt.show()"
      ],
      "execution_count": null,
      "outputs": [
        {
          "output_type": "stream",
          "text": [
            "/usr/local/lib/python3.7/dist-packages/seaborn/_decorators.py:43: FutureWarning: Pass the following variable as a keyword arg: x. From version 0.12, the only valid positional argument will be `data`, and passing other arguments without an explicit keyword will result in an error or misinterpretation.\n",
            "  FutureWarning\n"
          ],
          "name": "stderr"
        },
        {
          "output_type": "display_data",
          "data": {
            "image/png": "[encoded data removed]",
            "text/plain": [
              "<Figure size 432x288 with 1 Axes>"
            ]
          },
          "metadata": {
            "tags": [],
            "needs_background": "light"
          }
        }
      ]
    },
    {
      "cell_type": "code",
      "metadata": {
        "id": "qX8JRl-kqAhI"
      },
      "source": [
        "# Let's create the target variable.\r\n",
        "true_news['target'] = 1\r\n",
        "fake_news['target'] = 0"
      ],
      "execution_count": null,
      "outputs": []
    },
    {
      "cell_type": "code",
      "metadata": {
        "colab": {
          "base_uri": "https://localhost:8080/",
          "height": 195
        },
        "id": "YJzohQy7qNrG",
        "outputId": "7ba35407-7c8d-47d6-9ca4-6e57de27b98f"
      },
      "source": [
        "true_news.head()"
      ],
      "execution_count": null,
      "outputs": [
        {
          "output_type": "execute_result",
          "data": {
            "text/html": [
              "<div>\n",
              "<style scoped>\n",
              "    .dataframe tbody tr th:only-of-type {\n",
              "        vertical-align: middle;\n",
              "    }\n",
              "\n",
              "    .dataframe tbody tr th {\n",
              "        vertical-align: top;\n",
              "    }\n",
              "\n",
              "    .dataframe thead th {\n",
              "        text-align: right;\n",
              "    }\n",
              "</style>\n",
              "<table border=\"1\" class=\"dataframe\">\n",
              "  <thead>\n",
              "    <tr style=\"text-align: right;\">\n",
              "      <th></th>\n",
              "      <th>title</th>\n",
              "      <th>text</th>\n",
              "      <th>subject</th>\n",
              "      <th>date</th>\n",
              "      <th>target</th>\n",
              "    </tr>\n",
              "  </thead>\n",
              "  <tbody>\n",
              "    <tr>\n",
              "      <th>0</th>\n",
              "      <td>As U.S. budget fight looms, Republicans flip t...</td>\n",
              "      <td>WASHINGTON (Reuters) - The head of a conservat...</td>\n",
              "      <td>politicsNews</td>\n",
              "      <td>December 31, 2017</td>\n",
              "      <td>1</td>\n",
              "    </tr>\n",
              "    <tr>\n",
              "      <th>1</th>\n",
              "      <td>U.S. military to accept transgender recruits o...</td>\n",
              "      <td>WASHINGTON (Reuters) - Transgender people will...</td>\n",
              "      <td>politicsNews</td>\n",
              "      <td>December 29, 2017</td>\n",
              "      <td>1</td>\n",
              "    </tr>\n",
              "    <tr>\n",
              "      <th>2</th>\n",
              "      <td>Senior U.S. Republican senator: 'Let Mr. Muell...</td>\n",
              "      <td>WASHINGTON (Reuters) - The special counsel inv...</td>\n",
              "      <td>politicsNews</td>\n",
              "      <td>December 31, 2017</td>\n",
              "      <td>1</td>\n",
              "    </tr>\n",
              "    <tr>\n",
              "      <th>3</th>\n",
              "      <td>FBI Russia probe helped by Australian diplomat...</td>\n",
              "      <td>WASHINGTON (Reuters) - Trump campaign adviser ...</td>\n",
              "      <td>politicsNews</td>\n",
              "      <td>December 30, 2017</td>\n",
              "      <td>1</td>\n",
              "    </tr>\n",
              "    <tr>\n",
              "      <th>4</th>\n",
              "      <td>Trump wants Postal Service to charge 'much mor...</td>\n",
              "      <td>SEATTLE/WASHINGTON (Reuters) - President Donal...</td>\n",
              "      <td>politicsNews</td>\n",
              "      <td>December 29, 2017</td>\n",
              "      <td>1</td>\n",
              "    </tr>\n",
              "  </tbody>\n",
              "</table>\n",
              "</div>"
            ],
            "text/plain": [
              "                                               title  ... target\n",
              "0  As U.S. budget fight looms, Republicans flip t...  ...      1\n",
              "1  U.S. military to accept transgender recruits o...  ...      1\n",
              "2  Senior U.S. Republican senator: 'Let Mr. Muell...  ...      1\n",
              "3  FBI Russia probe helped by Australian diplomat...  ...      1\n",
              "4  Trump wants Postal Service to charge 'much mor...  ...      1\n",
              "\n",
              "[5 rows x 5 columns]"
            ]
          },
          "metadata": {
            "tags": []
          },
          "execution_count": 238
        }
      ]
    },
    {
      "cell_type": "code",
      "metadata": {
        "colab": {
          "base_uri": "https://localhost:8080/",
          "height": 195
        },
        "id": "D-RKIlJ3x3aV",
        "outputId": "6982ace4-7cc3-4448-8b8f-9231acff8c06"
      },
      "source": [
        "fake_news.head()"
      ],
      "execution_count": null,
      "outputs": [
        {
          "output_type": "execute_result",
          "data": {
            "text/html": [
              "<div>\n",
              "<style scoped>\n",
              "    .dataframe tbody tr th:only-of-type {\n",
              "        vertical-align: middle;\n",
              "    }\n",
              "\n",
              "    .dataframe tbody tr th {\n",
              "        vertical-align: top;\n",
              "    }\n",
              "\n",
              "    .dataframe thead th {\n",
              "        text-align: right;\n",
              "    }\n",
              "</style>\n",
              "<table border=\"1\" class=\"dataframe\">\n",
              "  <thead>\n",
              "    <tr style=\"text-align: right;\">\n",
              "      <th></th>\n",
              "      <th>title</th>\n",
              "      <th>text</th>\n",
              "      <th>subject</th>\n",
              "      <th>date</th>\n",
              "      <th>target</th>\n",
              "    </tr>\n",
              "  </thead>\n",
              "  <tbody>\n",
              "    <tr>\n",
              "      <th>0</th>\n",
              "      <td>Donald Trump Sends Out Embarrassing New Year’...</td>\n",
              "      <td>Donald Trump just couldn t wish all Americans ...</td>\n",
              "      <td>News</td>\n",
              "      <td>December 31, 2017</td>\n",
              "      <td>0</td>\n",
              "    </tr>\n",
              "    <tr>\n",
              "      <th>1</th>\n",
              "      <td>Drunk Bragging Trump Staffer Started Russian ...</td>\n",
              "      <td>House Intelligence Committee Chairman Devin Nu...</td>\n",
              "      <td>News</td>\n",
              "      <td>December 31, 2017</td>\n",
              "      <td>0</td>\n",
              "    </tr>\n",
              "    <tr>\n",
              "      <th>2</th>\n",
              "      <td>Sheriff David Clarke Becomes An Internet Joke...</td>\n",
              "      <td>On Friday, it was revealed that former Milwauk...</td>\n",
              "      <td>News</td>\n",
              "      <td>December 30, 2017</td>\n",
              "      <td>0</td>\n",
              "    </tr>\n",
              "    <tr>\n",
              "      <th>3</th>\n",
              "      <td>Trump Is So Obsessed He Even Has Obama’s Name...</td>\n",
              "      <td>On Christmas day, Donald Trump announced that ...</td>\n",
              "      <td>News</td>\n",
              "      <td>December 29, 2017</td>\n",
              "      <td>0</td>\n",
              "    </tr>\n",
              "    <tr>\n",
              "      <th>4</th>\n",
              "      <td>Pope Francis Just Called Out Donald Trump Dur...</td>\n",
              "      <td>Pope Francis used his annual Christmas Day mes...</td>\n",
              "      <td>News</td>\n",
              "      <td>December 25, 2017</td>\n",
              "      <td>0</td>\n",
              "    </tr>\n",
              "  </tbody>\n",
              "</table>\n",
              "</div>"
            ],
            "text/plain": [
              "                                               title  ... target\n",
              "0   Donald Trump Sends Out Embarrassing New Year’...  ...      0\n",
              "1   Drunk Bragging Trump Staffer Started Russian ...  ...      0\n",
              "2   Sheriff David Clarke Becomes An Internet Joke...  ...      0\n",
              "3   Trump Is So Obsessed He Even Has Obama’s Name...  ...      0\n",
              "4   Pope Francis Just Called Out Donald Trump Dur...  ...      0\n",
              "\n",
              "[5 rows x 5 columns]"
            ]
          },
          "metadata": {
            "tags": []
          },
          "execution_count": 239
        }
      ]
    },
    {
      "cell_type": "code",
      "metadata": {
        "id": "y05kjvj4tUJK"
      },
      "source": [
        "# We concatenate the two datasets.\r\n",
        "data = pd.concat([true_news, fake_news])\r\n",
        "# We add title and text.\r\n",
        "data['Full_information'] = data['title'] + \"  \" + data['text']\r\n",
        "# Let's remove the columns date, subject, title and text.\r\n",
        "data.drop(['date', 'title', 'text', 'subject'], inplace= True, axis= 1)"
      ],
      "execution_count": null,
      "outputs": []
    },
    {
      "cell_type": "code",
      "metadata": {
        "colab": {
          "base_uri": "https://localhost:8080/",
          "height": 195
        },
        "id": "FOQ-LwNwzL4R",
        "outputId": "6738ee3c-f017-4fcb-f993-a8461bb2222a"
      },
      "source": [
        "data.head()"
      ],
      "execution_count": null,
      "outputs": [
        {
          "output_type": "execute_result",
          "data": {
            "text/html": [
              "<div>\n",
              "<style scoped>\n",
              "    .dataframe tbody tr th:only-of-type {\n",
              "        vertical-align: middle;\n",
              "    }\n",
              "\n",
              "    .dataframe tbody tr th {\n",
              "        vertical-align: top;\n",
              "    }\n",
              "\n",
              "    .dataframe thead th {\n",
              "        text-align: right;\n",
              "    }\n",
              "</style>\n",
              "<table border=\"1\" class=\"dataframe\">\n",
              "  <thead>\n",
              "    <tr style=\"text-align: right;\">\n",
              "      <th></th>\n",
              "      <th>target</th>\n",
              "      <th>Full_information</th>\n",
              "    </tr>\n",
              "  </thead>\n",
              "  <tbody>\n",
              "    <tr>\n",
              "      <th>0</th>\n",
              "      <td>1</td>\n",
              "      <td>As U.S. budget fight looms, Republicans flip t...</td>\n",
              "    </tr>\n",
              "    <tr>\n",
              "      <th>1</th>\n",
              "      <td>1</td>\n",
              "      <td>U.S. military to accept transgender recruits o...</td>\n",
              "    </tr>\n",
              "    <tr>\n",
              "      <th>2</th>\n",
              "      <td>1</td>\n",
              "      <td>Senior U.S. Republican senator: 'Let Mr. Muell...</td>\n",
              "    </tr>\n",
              "    <tr>\n",
              "      <th>3</th>\n",
              "      <td>1</td>\n",
              "      <td>FBI Russia probe helped by Australian diplomat...</td>\n",
              "    </tr>\n",
              "    <tr>\n",
              "      <th>4</th>\n",
              "      <td>1</td>\n",
              "      <td>Trump wants Postal Service to charge 'much mor...</td>\n",
              "    </tr>\n",
              "  </tbody>\n",
              "</table>\n",
              "</div>"
            ],
            "text/plain": [
              "   target                                   Full_information\n",
              "0       1  As U.S. budget fight looms, Republicans flip t...\n",
              "1       1  U.S. military to accept transgender recruits o...\n",
              "2       1  Senior U.S. Republican senator: 'Let Mr. Muell...\n",
              "3       1  FBI Russia probe helped by Australian diplomat...\n",
              "4       1  Trump wants Postal Service to charge 'much mor..."
            ]
          },
          "metadata": {
            "tags": []
          },
          "execution_count": 241
        }
      ]
    },
    {
      "cell_type": "code",
      "metadata": {
        "colab": {
          "base_uri": "https://localhost:8080/",
          "height": 120
        },
        "id": "Yz8BJ7lbulHH",
        "outputId": "a45c44fe-817f-4c61-c5c1-2c6f9ca8ccd2"
      },
      "source": [
        "data.Full_information.values[0]\r\n"
      ],
      "execution_count": null,
      "outputs": [
        {
          "output_type": "execute_result",
          "data": {
            "application/vnd.google.colaboratory.intrinsic+json": {
              "type": "string"
            },
            "text/plain": [
              "'As U.S. budget fight looms, Republicans flip their fiscal script  WASHINGTON (Reuters) - The head of a conservative Republican faction in the U.S. Congress, who voted this month for a huge expansion of the national debt to pay for tax cuts, called himself a “fiscal conservative” on Sunday and urged budget restraint in 2018. In keeping with a sharp pivot under way among Republicans, U.S. Representative Mark Meadows, speaking on CBS’ “Face the Nation,” drew a hard line on federal spending, which lawmakers are bracing to do battle over in January. When they return from the holidays on Wednesday, lawmakers will begin trying to pass a federal budget in a fight likely to be linked to other issues, such as immigration policy, even as the November congressional election campaigns approach in which Republicans will seek to keep control of Congress. President Donald Trump and his Republicans want a big budget increase in military spending, while Democrats also want proportional increases for non-defense “discretionary” spending on programs that support education, scientific research, infrastructure, public health and environmental protection. “The (Trump) administration has already been willing to say: ‘We’re going to increase non-defense discretionary spending ... by about 7 percent,’” Meadows, chairman of the small but influential House Freedom Caucus, said on the program. “Now, Democrats are saying that’s not enough, we need to give the government a pay raise of 10 to 11 percent. For a fiscal conservative, I don’t see where the rationale is. ... Eventually you run out of other people’s money,” he said. Meadows was among Republicans who voted in late December for their party’s debt-financed tax overhaul, which is expected to balloon the federal budget deficit and add about $1.5 trillion over 10 years to the $20 trillion national debt. “It’s interesting to hear Mark talk about fiscal responsibility,” Democratic U.S. Representative Joseph Crowley said on CBS. Crowley said the Republican tax bill would require the  United States to borrow $1.5 trillion, to be paid off by future generations, to finance tax cuts for corporations and the rich. “This is one of the least ... fiscally responsible bills we’ve ever seen passed in the history of the House of Representatives. I think we’re going to be paying for this for many, many years to come,” Crowley said. Republicans insist the tax package, the biggest U.S. tax overhaul in more than 30 years,  will boost the economy and job growth. House Speaker Paul Ryan, who also supported the tax bill, recently went further than Meadows, making clear in a radio interview that welfare or “entitlement reform,” as the party often calls it, would be a top Republican priority in 2018. In Republican parlance, “entitlement” programs mean food stamps, housing assistance, Medicare and Medicaid health insurance for the elderly, poor and disabled, as well as other programs created by Washington to assist the needy. Democrats seized on Ryan’s early December remarks, saying they showed Republicans would try to pay for their tax overhaul by seeking spending cuts for social programs. But the goals of House Republicans may have to take a back seat to the Senate, where the votes of some Democrats will be needed to approve a budget and prevent a government shutdown. Democrats will use their leverage in the Senate, which Republicans narrowly control, to defend both discretionary non-defense programs and social spending, while tackling the issue of the “Dreamers,” people brought illegally to the country as children. Trump in September put a March 2018 expiration date on the Deferred Action for Childhood Arrivals, or DACA, program, which protects the young immigrants from deportation and provides them with work permits. The president has said in recent Twitter messages he wants funding for his proposed Mexican border wall and other immigration law changes in exchange for agreeing to help the Dreamers. Representative Debbie Dingell told CBS she did not favor linking that issue to other policy objectives, such as wall funding. “We need to do DACA clean,” she said.  On Wednesday, Trump aides will meet with congressional leaders to discuss those issues. That will be followed by a weekend of strategy sessions for Trump and Republican leaders on Jan. 6 and 7, the White House said. Trump was also scheduled to meet on Sunday with Florida Republican Governor Rick Scott, who wants more emergency aid. The House has passed an $81 billion aid package after hurricanes in Florida, Texas and Puerto Rico, and wildfires in California. The package far exceeded the $44 billion requested by the Trump administration. The Senate has not yet voted on the aid. '"
            ]
          },
          "metadata": {
            "tags": []
          },
          "execution_count": 242
        }
      ]
    },
    {
      "cell_type": "code",
      "metadata": {
        "id": "EI2xdyhKzPwm"
      },
      "source": [
        "del true_news, fake_news"
      ],
      "execution_count": null,
      "outputs": []
    },
    {
      "cell_type": "markdown",
      "metadata": {
        "id": "hgzhYixGMg5l"
      },
      "source": [
        "## Splitting the dataset"
      ]
    },
    {
      "cell_type": "code",
      "metadata": {
        "id": "aK5Gcu6ZMjUB"
      },
      "source": [
        " # splitting the dataset.\r\n",
        " y = data['target']\r\n",
        " X = data.drop('target', axis= 1)\r\n",
        " X_train, X_test, y_train, y_test = train_test_split(X, y, shuffle = True, test_size = 0.3, random_state = 1) "
      ],
      "execution_count": null,
      "outputs": []
    },
    {
      "cell_type": "code",
      "metadata": {
        "id": "83H_hS3bSL35"
      },
      "source": [
        "# resetting the index\r\n",
        "X_train.reset_index(drop= True, inplace= True)\r\n",
        "X_test.reset_index(drop= True, inplace= True) \r\n",
        "y_train.reset_index(drop= True, inplace= True) \r\n",
        "y_test.reset_index(drop= True, inplace= True) "
      ],
      "execution_count": null,
      "outputs": []
    },
    {
      "cell_type": "code",
      "metadata": {
        "colab": {
          "base_uri": "https://localhost:8080/"
        },
        "id": "w88AcVuP7meB",
        "outputId": "b0793d40-a016-4993-f125-3c2425a1eeca"
      },
      "source": [
        "# The number of words in the training set.\r\n",
        "sum(X_train['Full_information'].apply(lambda x:len(x)).values)"
      ],
      "execution_count": null,
      "outputs": [
        {
          "output_type": "execute_result",
          "data": {
            "text/plain": [
              "79611947"
            ]
          },
          "metadata": {
            "tags": []
          },
          "execution_count": 452
        }
      ]
    },
    {
      "cell_type": "markdown",
      "metadata": {
        "id": "YQxgsW3Q2Li6"
      },
      "source": [
        "### Processing the training set "
      ]
    },
    {
      "cell_type": "code",
      "metadata": {
        "id": "rNeBGtrRumKg"
      },
      "source": [
        "def cleaning_text():\r\n",
        "  \"\"\"\r\n",
        "  This function cleans the text by removing punctuations, lowercasing each word and removing stopwords.\r\n",
        "  Lemmatization is used.\r\n",
        "  \"\"\"\r\n",
        "  corpus = []\r\n",
        "  stem =  nltk.stem.SnowballStemmer('english')\r\n",
        "  for text in X_train['Full_information']:\r\n",
        "    text = re.sub('[0-9]', ' ', text)\r\n",
        "    text = text.lower() \r\n",
        "    clean = re.compile('<.*?>')\r\n",
        "    text = re.sub(cleanr, ' ', text) \r\n",
        "    text = re.sub(r'[?|!|\\'|\"|#]',r'',text)\r\n",
        "    text = re.sub(r'[.|,|)|(|\\|/]',r' ',text) \r\n",
        "    text = text.strip()\r\n",
        "    words = [stem.stem(word) for word in text.split() if word not in stopwords.words('english')]\r\n",
        "    corpus.append(words)  \r\n",
        "  return corpus"
      ],
      "execution_count": null,
      "outputs": []
    },
    {
      "cell_type": "code",
      "metadata": {
        "id": "5InICpcgLARW"
      },
      "source": [
        "corpus = cleaning_text()"
      ],
      "execution_count": null,
      "outputs": []
    },
    {
      "cell_type": "markdown",
      "metadata": {
        "id": "Zp5JdYHhfMRG"
      },
      "source": [
        "## Word embedding method: word2vec"
      ]
    },
    {
      "cell_type": "code",
      "metadata": {
        "id": "RsiDoy97f2nw"
      },
      "source": [
        "from gensim.models import Word2Vec\r\n",
        "w2v = Word2Vec(list(corpus), min_count=2)"
      ],
      "execution_count": null,
      "outputs": []
    },
    {
      "cell_type": "code",
      "metadata": {
        "colab": {
          "base_uri": "https://localhost:8080/"
        },
        "id": "Pb68e7BPPVJM",
        "outputId": "6e89fefe-5505-49c5-f84b-91c620309474"
      },
      "source": [
        "## length of the vocabulary\r\n",
        "len(w2v.wv.vocab)"
      ],
      "execution_count": null,
      "outputs": [
        {
          "output_type": "execute_result",
          "data": {
            "text/plain": [
              "67872"
            ]
          },
          "metadata": {
            "tags": []
          },
          "execution_count": 401
        }
      ]
    },
    {
      "cell_type": "code",
      "metadata": {
        "colab": {
          "base_uri": "https://localhost:8080/"
        },
        "id": "oo4opadqPc-U",
        "outputId": "79c3fd05-6c2c-4ce4-f9dd-212d3591e8a4"
      },
      "source": [
        "## Similarities\r\n",
        "w2v.most_similar('trump')"
      ],
      "execution_count": null,
      "outputs": [
        {
          "output_type": "stream",
          "text": [
            "/usr/local/lib/python3.7/dist-packages/ipykernel_launcher.py:2: DeprecationWarning: Call to deprecated `most_similar` (Method will be removed in 4.0.0, use self.wv.most_similar() instead).\n",
            "  \n"
          ],
          "name": "stderr"
        },
        {
          "output_type": "execute_result",
          "data": {
            "text/plain": [
              "[('president-elect', 0.6623184680938721),\n",
              " ('trump:', 0.5722377896308899),\n",
              " ('obama', 0.5251468420028687),\n",
              " ('republican', 0.5029903054237366),\n",
              " ('actual', 0.4953700602054596),\n",
              " ('conway', 0.47758036851882935),\n",
              " ('bush', 0.4692569673061371),\n",
              " ('presid', 0.46103304624557495),\n",
              " ('seem', 0.4575158357620239),\n",
              " ('@wsj:', 0.4570156931877136)]"
            ]
          },
          "metadata": {
            "tags": []
          },
          "execution_count": 403
        }
      ]
    },
    {
      "cell_type": "code",
      "metadata": {
        "colab": {
          "base_uri": "https://localhost:8080/"
        },
        "id": "8lPH2t4nPzIE",
        "outputId": "cd6410ae-f293-4428-940b-58b92afa4e13"
      },
      "source": [
        "# most similar words to freedom\r\n",
        "w2v.most_similar('freedom')"
      ],
      "execution_count": null,
      "outputs": [
        {
          "output_type": "stream",
          "text": [
            "/usr/local/lib/python3.7/dist-packages/ipykernel_launcher.py:2: DeprecationWarning: Call to deprecated `most_similar` (Method will be removed in 4.0.0, use self.wv.most_similar() instead).\n",
            "  \n"
          ],
          "name": "stderr"
        },
        {
          "output_type": "execute_result",
          "data": {
            "text/plain": [
              "[('democraci', 0.6168619394302368),\n",
              " ('liberti', 0.6049825549125671),\n",
              " ('free', 0.5996103286743164),\n",
              " ('principl', 0.5283186435699463),\n",
              " ('cherish', 0.49440035223960876),\n",
              " ('sovereignti', 0.4870368242263794),\n",
              " ('infring', 0.4773002862930298),\n",
              " ('toler', 0.47693124413490295),\n",
              " ('guarante', 0.47630539536476135),\n",
              " ('religi', 0.47127723693847656)]"
            ]
          },
          "metadata": {
            "tags": []
          },
          "execution_count": 417
        }
      ]
    },
    {
      "cell_type": "code",
      "metadata": {
        "colab": {
          "base_uri": "https://localhost:8080/"
        },
        "id": "_42EvDfgSbRB",
        "outputId": "806efec9-c9d1-4841-b3ff-25c1f14b9f2d"
      },
      "source": [
        "# The represention of the word trump. \r\n",
        "w2v['trump']"
      ],
      "execution_count": null,
      "outputs": [
        {
          "output_type": "stream",
          "text": [
            "/usr/local/lib/python3.7/dist-packages/ipykernel_launcher.py:2: DeprecationWarning: Call to deprecated `__getitem__` (Method will be removed in 4.0.0, use self.wv.__getitem__() instead).\n",
            "  \n"
          ],
          "name": "stderr"
        },
        {
          "output_type": "execute_result",
          "data": {
            "text/plain": [
              "array([-1.2473543 ,  0.520731  , -0.16841027,  0.3475362 ,  1.5167011 ,\n",
              "       -0.7213642 , -0.9282631 , -1.1962711 , -2.0906653 , -0.8255034 ,\n",
              "       -3.6345444 ,  0.44253758,  0.6753561 ,  0.03122572,  2.645741  ,\n",
              "       -1.2173619 ,  0.6058597 ,  0.7006084 , -1.387257  ,  0.5962308 ,\n",
              "       -3.731654  , -0.45442864,  0.6974678 ,  0.65815616,  0.2689755 ,\n",
              "       -2.004096  , -1.2475362 ,  1.142255  ,  2.2265763 , -0.2941149 ,\n",
              "        2.1796517 ,  1.1252983 , -0.36446774,  0.73440176,  2.5042198 ,\n",
              "        2.907986  ,  0.04877087,  0.47746876,  0.04282359,  0.5618133 ,\n",
              "        2.8747394 , -0.17894566, -3.1601758 ,  2.1072063 ,  1.2008172 ,\n",
              "       -0.2113186 ,  0.80543137, -3.1469686 ,  2.1249309 , -2.468279  ,\n",
              "       -1.4544162 , -0.38518193, -1.5162257 , -0.03810613, -1.3543044 ,\n",
              "        2.182589  ,  0.36017904, -0.54515064,  0.66803783,  1.2988625 ,\n",
              "        1.3153152 ,  0.685614  ,  2.4604762 ,  1.0606254 ,  1.1243894 ,\n",
              "       -1.7831205 , -1.4389821 ,  0.4144089 ,  0.57871765, -2.2503433 ,\n",
              "        2.1783137 ,  1.840526  , -0.36890197,  2.2667973 , -0.5578171 ,\n",
              "       -0.88514316,  1.2822918 ,  0.91213524,  0.7420596 , -0.7819712 ,\n",
              "        1.0240339 ,  0.44141597, -0.3276707 , -0.48792386,  1.0900854 ,\n",
              "        0.5213345 , -3.8694363 ,  0.08957338, -1.3325906 , -1.1035078 ,\n",
              "       -1.1503991 , -1.0138426 , -1.3555021 , -0.63825256, -0.27053422,\n",
              "       -1.1553681 , -2.5968642 ,  2.3040948 ,  2.7770262 ,  0.6010213 ],\n",
              "      dtype=float32)"
            ]
          },
          "metadata": {
            "tags": []
          },
          "execution_count": 418
        }
      ]
    },
    {
      "cell_type": "code",
      "metadata": {
        "id": "2mQOUd2_QMDq"
      },
      "source": [
        "def vector_representation(docs, size = 100):\r\n",
        "    \"\"\" This function converts document into number thanks to word2vec.\r\n",
        "        Inputs: docs: strings\r\n",
        "                size: integer (the size of the vector representation)\r\n",
        "    \"\"\"\r\n",
        "    average_vector = []\r\n",
        "    count = 0\r\n",
        "    vector = np.zeros(size)\r\n",
        "    for word in docs:\r\n",
        "      try:\r\n",
        "          vector += w2v[word]\r\n",
        "          count += 1\r\n",
        "      except:\r\n",
        "           pass\r\n",
        "    return vector/count     "
      ],
      "execution_count": null,
      "outputs": []
    },
    {
      "cell_type": "code",
      "metadata": {
        "colab": {
          "base_uri": "https://localhost:8080/"
        },
        "id": "78acuwyhZ7aC",
        "outputId": "8e0097de-379b-4b9f-dcba-65761cb318a0"
      },
      "source": [
        "# Create a new column called vectors\r\n",
        "X_train['vectors'] = X_train['Full_information'].apply(vector_representation, size = 100)\r\n",
        "X_test['vectors'] = X_test['Full_information'].apply(vector_representation, size = 100)"
      ],
      "execution_count": null,
      "outputs": [
        {
          "output_type": "stream",
          "text": [
            "/usr/local/lib/python3.7/dist-packages/ipykernel_launcher.py:11: DeprecationWarning: Call to deprecated `__getitem__` (Method will be removed in 4.0.0, use self.wv.__getitem__() instead).\n",
            "  # This is added back by InteractiveShellApp.init_path()\n",
            "/usr/local/lib/python3.7/dist-packages/ipykernel_launcher.py:2: SettingWithCopyWarning: \n",
            "A value is trying to be set on a copy of a slice from a DataFrame.\n",
            "Try using .loc[row_indexer,col_indexer] = value instead\n",
            "\n",
            "See the caveats in the documentation: https://pandas.pydata.org/pandas-docs/stable/user_guide/indexing.html#returning-a-view-versus-a-copy\n",
            "  \n",
            "/usr/local/lib/python3.7/dist-packages/ipykernel_launcher.py:3: SettingWithCopyWarning: \n",
            "A value is trying to be set on a copy of a slice from a DataFrame.\n",
            "Try using .loc[row_indexer,col_indexer] = value instead\n",
            "\n",
            "See the caveats in the documentation: https://pandas.pydata.org/pandas-docs/stable/user_guide/indexing.html#returning-a-view-versus-a-copy\n",
            "  This is separate from the ipykernel package so we can avoid doing imports until\n"
          ],
          "name": "stderr"
        }
      ]
    },
    {
      "cell_type": "code",
      "metadata": {
        "colab": {
          "base_uri": "https://localhost:8080/",
          "height": 195
        },
        "id": "x1tjfHcETjkw",
        "outputId": "707f7eea-808f-4902-818b-8c052982be81"
      },
      "source": [
        "X_train.head()"
      ],
      "execution_count": null,
      "outputs": [
        {
          "output_type": "execute_result",
          "data": {
            "text/html": [
              "<div>\n",
              "<style scoped>\n",
              "    .dataframe tbody tr th:only-of-type {\n",
              "        vertical-align: middle;\n",
              "    }\n",
              "\n",
              "    .dataframe tbody tr th {\n",
              "        vertical-align: top;\n",
              "    }\n",
              "\n",
              "    .dataframe thead th {\n",
              "        text-align: right;\n",
              "    }\n",
              "</style>\n",
              "<table border=\"1\" class=\"dataframe\">\n",
              "  <thead>\n",
              "    <tr style=\"text-align: right;\">\n",
              "      <th></th>\n",
              "      <th>Full_information</th>\n",
              "      <th>vectors</th>\n",
              "    </tr>\n",
              "  </thead>\n",
              "  <tbody>\n",
              "    <tr>\n",
              "      <th>0</th>\n",
              "      <td>NY Times Columnist David Brooks: Trump Will B...</td>\n",
              "      <td>[-0.3029323843914531, 0.21018069344166537, 0.5...</td>\n",
              "    </tr>\n",
              "    <tr>\n",
              "      <th>1</th>\n",
              "      <td>Here’s What Black Voters Think Of Donald Trum...</td>\n",
              "      <td>[-0.3262597788138833, 0.1941212124414001, 0.53...</td>\n",
              "    </tr>\n",
              "    <tr>\n",
              "      <th>2</th>\n",
              "      <td>One of Liberia's main parties calls for halt t...</td>\n",
              "      <td>[-0.3028052875853546, 0.23572140681270665, 0.5...</td>\n",
              "    </tr>\n",
              "    <tr>\n",
              "      <th>3</th>\n",
              "      <td>Trump Caught Illegally Buying $55,000 Worth O...</td>\n",
              "      <td>[-0.2665467654432677, 0.23028377191552632, 0.5...</td>\n",
              "    </tr>\n",
              "    <tr>\n",
              "      <th>4</th>\n",
              "      <td>Kellyanne Conway, Trump Jr. Spread False Info...</td>\n",
              "      <td>[-0.27302842925619, 0.24269538810881966, 0.534...</td>\n",
              "    </tr>\n",
              "  </tbody>\n",
              "</table>\n",
              "</div>"
            ],
            "text/plain": [
              "                                    Full_information                                            vectors\n",
              "0   NY Times Columnist David Brooks: Trump Will B...  [-0.3029323843914531, 0.21018069344166537, 0.5...\n",
              "1   Here’s What Black Voters Think Of Donald Trum...  [-0.3262597788138833, 0.1941212124414001, 0.53...\n",
              "2  One of Liberia's main parties calls for halt t...  [-0.3028052875853546, 0.23572140681270665, 0.5...\n",
              "3   Trump Caught Illegally Buying $55,000 Worth O...  [-0.2665467654432677, 0.23028377191552632, 0.5...\n",
              "4   Kellyanne Conway, Trump Jr. Spread False Info...  [-0.27302842925619, 0.24269538810881966, 0.534..."
            ]
          },
          "metadata": {
            "tags": []
          },
          "execution_count": 459
        }
      ]
    },
    {
      "cell_type": "code",
      "metadata": {
        "colab": {
          "base_uri": "https://localhost:8080/",
          "height": 195
        },
        "id": "AKLQVCXWaE7Y",
        "outputId": "e1295c74-7911-4835-f469-32832ae69421"
      },
      "source": [
        "X_test.head()"
      ],
      "execution_count": null,
      "outputs": [
        {
          "output_type": "execute_result",
          "data": {
            "text/html": [
              "<div>\n",
              "<style scoped>\n",
              "    .dataframe tbody tr th:only-of-type {\n",
              "        vertical-align: middle;\n",
              "    }\n",
              "\n",
              "    .dataframe tbody tr th {\n",
              "        vertical-align: top;\n",
              "    }\n",
              "\n",
              "    .dataframe thead th {\n",
              "        text-align: right;\n",
              "    }\n",
              "</style>\n",
              "<table border=\"1\" class=\"dataframe\">\n",
              "  <thead>\n",
              "    <tr style=\"text-align: right;\">\n",
              "      <th></th>\n",
              "      <th>Full_information</th>\n",
              "      <th>vectors</th>\n",
              "    </tr>\n",
              "  </thead>\n",
              "  <tbody>\n",
              "    <tr>\n",
              "      <th>0</th>\n",
              "      <td>Republicans propose to delay, pause Obamacare ...</td>\n",
              "      <td>[-0.28197844052056165, 0.2412806591842843, 0.5...</td>\n",
              "    </tr>\n",
              "    <tr>\n",
              "      <th>1</th>\n",
              "      <td>Trump Demands To Know Why The Millions Of Wom...</td>\n",
              "      <td>[-0.29003335606944936, 0.27581185158838073, 0....</td>\n",
              "    </tr>\n",
              "    <tr>\n",
              "      <th>2</th>\n",
              "      <td>Trump Supporter Pleads Guilty To Tampering Wi...</td>\n",
              "      <td>[-0.23307328505226138, 0.24558593104869503, 0....</td>\n",
              "    </tr>\n",
              "    <tr>\n",
              "      <th>3</th>\n",
              "      <td>WOW! DEM STRATEGIST Bob Beckel Says Wikileaks ...</td>\n",
              "      <td>[-0.3181923298238513, 0.1665325350570696, 0.52...</td>\n",
              "    </tr>\n",
              "    <tr>\n",
              "      <th>4</th>\n",
              "      <td>U.S. Taxpayers Were On The Hook For Trump’s C...</td>\n",
              "      <td>[-0.28942221482476355, 0.2521572893684189, 0.4...</td>\n",
              "    </tr>\n",
              "  </tbody>\n",
              "</table>\n",
              "</div>"
            ],
            "text/plain": [
              "                                    Full_information                                            vectors\n",
              "0  Republicans propose to delay, pause Obamacare ...  [-0.28197844052056165, 0.2412806591842843, 0.5...\n",
              "1   Trump Demands To Know Why The Millions Of Wom...  [-0.29003335606944936, 0.27581185158838073, 0....\n",
              "2   Trump Supporter Pleads Guilty To Tampering Wi...  [-0.23307328505226138, 0.24558593104869503, 0....\n",
              "3  WOW! DEM STRATEGIST Bob Beckel Says Wikileaks ...  [-0.3181923298238513, 0.1665325350570696, 0.52...\n",
              "4   U.S. Taxpayers Were On The Hook For Trump’s C...  [-0.28942221482476355, 0.2521572893684189, 0.4..."
            ]
          },
          "metadata": {
            "tags": []
          },
          "execution_count": 460
        }
      ]
    },
    {
      "cell_type": "markdown",
      "metadata": {
        "id": "UQSCFKSRfU3X"
      },
      "source": [
        "#3 Training model"
      ]
    },
    {
      "cell_type": "code",
      "metadata": {
        "id": "ByciRavbfDTw"
      },
      "source": [
        "# let'us reshape the vectors X defined below.\r\n",
        "X = X_train['vectors'].to_numpy()\r\n",
        "X = X.reshape(-1, 1)"
      ],
      "execution_count": null,
      "outputs": []
    },
    {
      "cell_type": "code",
      "metadata": {
        "id": "6dQrJDksfJae"
      },
      "source": [
        "# We concatenate X \r\n",
        "X = np.concatenate(np.concatenate(X, axis = 0), axis = 0).reshape(-1, 100)"
      ],
      "execution_count": null,
      "outputs": []
    },
    {
      "cell_type": "code",
      "metadata": {
        "id": "IscBeVEyfdqC"
      },
      "source": [
        "# We create a dataframe\r\n",
        "X = pd.DataFrame(X)"
      ],
      "execution_count": null,
      "outputs": []
    },
    {
      "cell_type": "code",
      "metadata": {
        "colab": {
          "base_uri": "https://localhost:8080/",
          "height": 244
        },
        "id": "RtmNPKTUgTzB",
        "outputId": "84aa2ce9-b27e-4365-cd53-34db567af273"
      },
      "source": [
        "X.head()"
      ],
      "execution_count": null,
      "outputs": [
        {
          "output_type": "execute_result",
          "data": {
            "text/html": [
              "<div>\n",
              "<style scoped>\n",
              "    .dataframe tbody tr th:only-of-type {\n",
              "        vertical-align: middle;\n",
              "    }\n",
              "\n",
              "    .dataframe tbody tr th {\n",
              "        vertical-align: top;\n",
              "    }\n",
              "\n",
              "    .dataframe thead th {\n",
              "        text-align: right;\n",
              "    }\n",
              "</style>\n",
              "<table border=\"1\" class=\"dataframe\">\n",
              "  <thead>\n",
              "    <tr style=\"text-align: right;\">\n",
              "      <th></th>\n",
              "      <th>0</th>\n",
              "      <th>1</th>\n",
              "      <th>2</th>\n",
              "      <th>3</th>\n",
              "      <th>4</th>\n",
              "      <th>5</th>\n",
              "      <th>6</th>\n",
              "      <th>7</th>\n",
              "      <th>8</th>\n",
              "      <th>9</th>\n",
              "      <th>10</th>\n",
              "      <th>11</th>\n",
              "      <th>12</th>\n",
              "      <th>13</th>\n",
              "      <th>14</th>\n",
              "      <th>15</th>\n",
              "      <th>16</th>\n",
              "      <th>17</th>\n",
              "      <th>18</th>\n",
              "      <th>19</th>\n",
              "      <th>20</th>\n",
              "      <th>21</th>\n",
              "      <th>22</th>\n",
              "      <th>23</th>\n",
              "      <th>24</th>\n",
              "      <th>25</th>\n",
              "      <th>26</th>\n",
              "      <th>27</th>\n",
              "      <th>28</th>\n",
              "      <th>29</th>\n",
              "      <th>30</th>\n",
              "      <th>31</th>\n",
              "      <th>32</th>\n",
              "      <th>33</th>\n",
              "      <th>34</th>\n",
              "      <th>35</th>\n",
              "      <th>36</th>\n",
              "      <th>37</th>\n",
              "      <th>38</th>\n",
              "      <th>39</th>\n",
              "      <th>...</th>\n",
              "      <th>60</th>\n",
              "      <th>61</th>\n",
              "      <th>62</th>\n",
              "      <th>63</th>\n",
              "      <th>64</th>\n",
              "      <th>65</th>\n",
              "      <th>66</th>\n",
              "      <th>67</th>\n",
              "      <th>68</th>\n",
              "      <th>69</th>\n",
              "      <th>70</th>\n",
              "      <th>71</th>\n",
              "      <th>72</th>\n",
              "      <th>73</th>\n",
              "      <th>74</th>\n",
              "      <th>75</th>\n",
              "      <th>76</th>\n",
              "      <th>77</th>\n",
              "      <th>78</th>\n",
              "      <th>79</th>\n",
              "      <th>80</th>\n",
              "      <th>81</th>\n",
              "      <th>82</th>\n",
              "      <th>83</th>\n",
              "      <th>84</th>\n",
              "      <th>85</th>\n",
              "      <th>86</th>\n",
              "      <th>87</th>\n",
              "      <th>88</th>\n",
              "      <th>89</th>\n",
              "      <th>90</th>\n",
              "      <th>91</th>\n",
              "      <th>92</th>\n",
              "      <th>93</th>\n",
              "      <th>94</th>\n",
              "      <th>95</th>\n",
              "      <th>96</th>\n",
              "      <th>97</th>\n",
              "      <th>98</th>\n",
              "      <th>99</th>\n",
              "    </tr>\n",
              "  </thead>\n",
              "  <tbody>\n",
              "    <tr>\n",
              "      <th>0</th>\n",
              "      <td>-0.302932</td>\n",
              "      <td>0.210181</td>\n",
              "      <td>0.504311</td>\n",
              "      <td>-0.055934</td>\n",
              "      <td>-0.812870</td>\n",
              "      <td>-0.007412</td>\n",
              "      <td>-0.341043</td>\n",
              "      <td>-0.991215</td>\n",
              "      <td>-0.108080</td>\n",
              "      <td>0.513267</td>\n",
              "      <td>0.912344</td>\n",
              "      <td>0.602429</td>\n",
              "      <td>0.286742</td>\n",
              "      <td>-1.014867</td>\n",
              "      <td>-0.036862</td>\n",
              "      <td>0.662201</td>\n",
              "      <td>-0.721966</td>\n",
              "      <td>-0.538471</td>\n",
              "      <td>-0.690418</td>\n",
              "      <td>0.032936</td>\n",
              "      <td>0.162296</td>\n",
              "      <td>-0.465029</td>\n",
              "      <td>-0.307061</td>\n",
              "      <td>0.680521</td>\n",
              "      <td>-1.146680</td>\n",
              "      <td>0.289377</td>\n",
              "      <td>0.730241</td>\n",
              "      <td>-0.024306</td>\n",
              "      <td>-0.272026</td>\n",
              "      <td>0.350193</td>\n",
              "      <td>-0.094315</td>\n",
              "      <td>-0.261423</td>\n",
              "      <td>-1.032501</td>\n",
              "      <td>-0.530258</td>\n",
              "      <td>-0.134576</td>\n",
              "      <td>0.223535</td>\n",
              "      <td>-0.289233</td>\n",
              "      <td>-0.670799</td>\n",
              "      <td>0.633219</td>\n",
              "      <td>1.651845</td>\n",
              "      <td>...</td>\n",
              "      <td>-0.924602</td>\n",
              "      <td>0.039461</td>\n",
              "      <td>-1.074064</td>\n",
              "      <td>-0.657809</td>\n",
              "      <td>0.219775</td>\n",
              "      <td>0.772141</td>\n",
              "      <td>-0.366450</td>\n",
              "      <td>0.628829</td>\n",
              "      <td>-1.300102</td>\n",
              "      <td>-0.461998</td>\n",
              "      <td>-0.495077</td>\n",
              "      <td>-0.258191</td>\n",
              "      <td>-0.653949</td>\n",
              "      <td>-1.366924</td>\n",
              "      <td>-0.543006</td>\n",
              "      <td>0.325148</td>\n",
              "      <td>1.042945</td>\n",
              "      <td>0.144307</td>\n",
              "      <td>0.485228</td>\n",
              "      <td>0.474758</td>\n",
              "      <td>-0.593362</td>\n",
              "      <td>0.742181</td>\n",
              "      <td>0.034427</td>\n",
              "      <td>0.317262</td>\n",
              "      <td>-0.194215</td>\n",
              "      <td>-0.428106</td>\n",
              "      <td>1.349122</td>\n",
              "      <td>0.141027</td>\n",
              "      <td>0.475927</td>\n",
              "      <td>-0.456310</td>\n",
              "      <td>0.952831</td>\n",
              "      <td>0.840036</td>\n",
              "      <td>-0.773382</td>\n",
              "      <td>-0.068867</td>\n",
              "      <td>-0.604853</td>\n",
              "      <td>0.456741</td>\n",
              "      <td>0.211335</td>\n",
              "      <td>-1.498186</td>\n",
              "      <td>-0.870828</td>\n",
              "      <td>-0.155022</td>\n",
              "    </tr>\n",
              "    <tr>\n",
              "      <th>1</th>\n",
              "      <td>-0.326260</td>\n",
              "      <td>0.194121</td>\n",
              "      <td>0.530934</td>\n",
              "      <td>-0.071153</td>\n",
              "      <td>-0.762495</td>\n",
              "      <td>0.018536</td>\n",
              "      <td>-0.378872</td>\n",
              "      <td>-0.997865</td>\n",
              "      <td>-0.208735</td>\n",
              "      <td>0.491173</td>\n",
              "      <td>1.001875</td>\n",
              "      <td>0.674193</td>\n",
              "      <td>0.208384</td>\n",
              "      <td>-1.062581</td>\n",
              "      <td>-0.051789</td>\n",
              "      <td>0.693108</td>\n",
              "      <td>-0.827971</td>\n",
              "      <td>-0.489605</td>\n",
              "      <td>-0.598957</td>\n",
              "      <td>0.036326</td>\n",
              "      <td>0.171612</td>\n",
              "      <td>-0.506977</td>\n",
              "      <td>-0.253486</td>\n",
              "      <td>0.731218</td>\n",
              "      <td>-1.201869</td>\n",
              "      <td>0.265842</td>\n",
              "      <td>0.715642</td>\n",
              "      <td>0.069877</td>\n",
              "      <td>-0.268631</td>\n",
              "      <td>0.370282</td>\n",
              "      <td>-0.092067</td>\n",
              "      <td>-0.273003</td>\n",
              "      <td>-0.981011</td>\n",
              "      <td>-0.492083</td>\n",
              "      <td>-0.117068</td>\n",
              "      <td>0.141654</td>\n",
              "      <td>-0.229308</td>\n",
              "      <td>-0.675850</td>\n",
              "      <td>0.676107</td>\n",
              "      <td>1.625540</td>\n",
              "      <td>...</td>\n",
              "      <td>-0.934783</td>\n",
              "      <td>0.062473</td>\n",
              "      <td>-1.136203</td>\n",
              "      <td>-0.696026</td>\n",
              "      <td>0.094362</td>\n",
              "      <td>0.752659</td>\n",
              "      <td>-0.382325</td>\n",
              "      <td>0.584947</td>\n",
              "      <td>-1.304231</td>\n",
              "      <td>-0.462678</td>\n",
              "      <td>-0.405188</td>\n",
              "      <td>-0.210496</td>\n",
              "      <td>-0.605353</td>\n",
              "      <td>-1.428457</td>\n",
              "      <td>-0.642581</td>\n",
              "      <td>0.334228</td>\n",
              "      <td>1.075666</td>\n",
              "      <td>0.154082</td>\n",
              "      <td>0.427042</td>\n",
              "      <td>0.463952</td>\n",
              "      <td>-0.630770</td>\n",
              "      <td>0.791932</td>\n",
              "      <td>-0.059145</td>\n",
              "      <td>0.301708</td>\n",
              "      <td>-0.225463</td>\n",
              "      <td>-0.404158</td>\n",
              "      <td>1.292938</td>\n",
              "      <td>0.046135</td>\n",
              "      <td>0.582651</td>\n",
              "      <td>-0.431311</td>\n",
              "      <td>0.953144</td>\n",
              "      <td>0.838123</td>\n",
              "      <td>-0.808932</td>\n",
              "      <td>0.029736</td>\n",
              "      <td>-0.687090</td>\n",
              "      <td>0.513452</td>\n",
              "      <td>0.222455</td>\n",
              "      <td>-1.558069</td>\n",
              "      <td>-0.762818</td>\n",
              "      <td>-0.188279</td>\n",
              "    </tr>\n",
              "    <tr>\n",
              "      <th>2</th>\n",
              "      <td>-0.302805</td>\n",
              "      <td>0.235721</td>\n",
              "      <td>0.531394</td>\n",
              "      <td>-0.052589</td>\n",
              "      <td>-0.790072</td>\n",
              "      <td>0.054448</td>\n",
              "      <td>-0.304049</td>\n",
              "      <td>-0.966468</td>\n",
              "      <td>-0.157994</td>\n",
              "      <td>0.438841</td>\n",
              "      <td>0.876454</td>\n",
              "      <td>0.642081</td>\n",
              "      <td>0.200958</td>\n",
              "      <td>-0.976314</td>\n",
              "      <td>-0.046925</td>\n",
              "      <td>0.699863</td>\n",
              "      <td>-0.751685</td>\n",
              "      <td>-0.578586</td>\n",
              "      <td>-0.734622</td>\n",
              "      <td>0.095371</td>\n",
              "      <td>0.238421</td>\n",
              "      <td>-0.516769</td>\n",
              "      <td>-0.211991</td>\n",
              "      <td>0.661962</td>\n",
              "      <td>-1.166286</td>\n",
              "      <td>0.262425</td>\n",
              "      <td>0.763006</td>\n",
              "      <td>-0.004812</td>\n",
              "      <td>-0.213969</td>\n",
              "      <td>0.254732</td>\n",
              "      <td>-0.100497</td>\n",
              "      <td>-0.235189</td>\n",
              "      <td>-1.004457</td>\n",
              "      <td>-0.518232</td>\n",
              "      <td>-0.107563</td>\n",
              "      <td>0.262341</td>\n",
              "      <td>-0.328969</td>\n",
              "      <td>-0.672684</td>\n",
              "      <td>0.656942</td>\n",
              "      <td>1.585009</td>\n",
              "      <td>...</td>\n",
              "      <td>-0.952415</td>\n",
              "      <td>-0.016785</td>\n",
              "      <td>-1.016672</td>\n",
              "      <td>-0.687497</td>\n",
              "      <td>0.187473</td>\n",
              "      <td>0.716457</td>\n",
              "      <td>-0.310488</td>\n",
              "      <td>0.644375</td>\n",
              "      <td>-1.244657</td>\n",
              "      <td>-0.446382</td>\n",
              "      <td>-0.498331</td>\n",
              "      <td>-0.149395</td>\n",
              "      <td>-0.596687</td>\n",
              "      <td>-1.395887</td>\n",
              "      <td>-0.538239</td>\n",
              "      <td>0.280048</td>\n",
              "      <td>1.017777</td>\n",
              "      <td>0.135647</td>\n",
              "      <td>0.486445</td>\n",
              "      <td>0.480689</td>\n",
              "      <td>-0.683579</td>\n",
              "      <td>0.756985</td>\n",
              "      <td>0.024149</td>\n",
              "      <td>0.277305</td>\n",
              "      <td>-0.146014</td>\n",
              "      <td>-0.439124</td>\n",
              "      <td>1.314728</td>\n",
              "      <td>0.138649</td>\n",
              "      <td>0.619140</td>\n",
              "      <td>-0.462831</td>\n",
              "      <td>0.956881</td>\n",
              "      <td>0.806807</td>\n",
              "      <td>-0.794137</td>\n",
              "      <td>-0.028020</td>\n",
              "      <td>-0.646632</td>\n",
              "      <td>0.461487</td>\n",
              "      <td>0.244333</td>\n",
              "      <td>-1.506673</td>\n",
              "      <td>-0.833007</td>\n",
              "      <td>-0.266296</td>\n",
              "    </tr>\n",
              "    <tr>\n",
              "      <th>3</th>\n",
              "      <td>-0.266547</td>\n",
              "      <td>0.230284</td>\n",
              "      <td>0.524299</td>\n",
              "      <td>-0.029760</td>\n",
              "      <td>-0.820645</td>\n",
              "      <td>-0.001061</td>\n",
              "      <td>-0.364502</td>\n",
              "      <td>-0.964620</td>\n",
              "      <td>-0.188807</td>\n",
              "      <td>0.472611</td>\n",
              "      <td>0.950618</td>\n",
              "      <td>0.593998</td>\n",
              "      <td>0.238494</td>\n",
              "      <td>-0.998413</td>\n",
              "      <td>-0.046471</td>\n",
              "      <td>0.665855</td>\n",
              "      <td>-0.731332</td>\n",
              "      <td>-0.512451</td>\n",
              "      <td>-0.692308</td>\n",
              "      <td>0.097148</td>\n",
              "      <td>0.145713</td>\n",
              "      <td>-0.505208</td>\n",
              "      <td>-0.311129</td>\n",
              "      <td>0.719528</td>\n",
              "      <td>-1.186904</td>\n",
              "      <td>0.252731</td>\n",
              "      <td>0.699155</td>\n",
              "      <td>0.006322</td>\n",
              "      <td>-0.295837</td>\n",
              "      <td>0.345926</td>\n",
              "      <td>-0.081023</td>\n",
              "      <td>-0.273153</td>\n",
              "      <td>-0.981133</td>\n",
              "      <td>-0.512642</td>\n",
              "      <td>-0.114875</td>\n",
              "      <td>0.209529</td>\n",
              "      <td>-0.241206</td>\n",
              "      <td>-0.644357</td>\n",
              "      <td>0.617420</td>\n",
              "      <td>1.637079</td>\n",
              "      <td>...</td>\n",
              "      <td>-0.940254</td>\n",
              "      <td>0.032911</td>\n",
              "      <td>-1.051640</td>\n",
              "      <td>-0.671004</td>\n",
              "      <td>0.214007</td>\n",
              "      <td>0.769910</td>\n",
              "      <td>-0.377052</td>\n",
              "      <td>0.620437</td>\n",
              "      <td>-1.291770</td>\n",
              "      <td>-0.481452</td>\n",
              "      <td>-0.440886</td>\n",
              "      <td>-0.180049</td>\n",
              "      <td>-0.592649</td>\n",
              "      <td>-1.377170</td>\n",
              "      <td>-0.553661</td>\n",
              "      <td>0.337260</td>\n",
              "      <td>1.015675</td>\n",
              "      <td>0.145746</td>\n",
              "      <td>0.492375</td>\n",
              "      <td>0.503104</td>\n",
              "      <td>-0.580499</td>\n",
              "      <td>0.756481</td>\n",
              "      <td>0.008337</td>\n",
              "      <td>0.315869</td>\n",
              "      <td>-0.168119</td>\n",
              "      <td>-0.394307</td>\n",
              "      <td>1.298782</td>\n",
              "      <td>0.112784</td>\n",
              "      <td>0.550594</td>\n",
              "      <td>-0.468542</td>\n",
              "      <td>1.001838</td>\n",
              "      <td>0.812742</td>\n",
              "      <td>-0.813067</td>\n",
              "      <td>-0.043451</td>\n",
              "      <td>-0.613199</td>\n",
              "      <td>0.475728</td>\n",
              "      <td>0.225111</td>\n",
              "      <td>-1.511592</td>\n",
              "      <td>-0.806170</td>\n",
              "      <td>-0.163423</td>\n",
              "    </tr>\n",
              "    <tr>\n",
              "      <th>4</th>\n",
              "      <td>-0.273028</td>\n",
              "      <td>0.242695</td>\n",
              "      <td>0.534992</td>\n",
              "      <td>-0.050669</td>\n",
              "      <td>-0.860386</td>\n",
              "      <td>-0.013711</td>\n",
              "      <td>-0.336239</td>\n",
              "      <td>-0.970831</td>\n",
              "      <td>-0.139082</td>\n",
              "      <td>0.509249</td>\n",
              "      <td>0.935430</td>\n",
              "      <td>0.574963</td>\n",
              "      <td>0.246819</td>\n",
              "      <td>-1.002633</td>\n",
              "      <td>-0.037607</td>\n",
              "      <td>0.675107</td>\n",
              "      <td>-0.714214</td>\n",
              "      <td>-0.558146</td>\n",
              "      <td>-0.707781</td>\n",
              "      <td>0.073629</td>\n",
              "      <td>0.173085</td>\n",
              "      <td>-0.477843</td>\n",
              "      <td>-0.297663</td>\n",
              "      <td>0.693073</td>\n",
              "      <td>-1.129222</td>\n",
              "      <td>0.258710</td>\n",
              "      <td>0.713581</td>\n",
              "      <td>-0.060448</td>\n",
              "      <td>-0.273174</td>\n",
              "      <td>0.297181</td>\n",
              "      <td>-0.115140</td>\n",
              "      <td>-0.242512</td>\n",
              "      <td>-1.035316</td>\n",
              "      <td>-0.550562</td>\n",
              "      <td>-0.125097</td>\n",
              "      <td>0.225327</td>\n",
              "      <td>-0.312436</td>\n",
              "      <td>-0.696265</td>\n",
              "      <td>0.639805</td>\n",
              "      <td>1.603914</td>\n",
              "      <td>...</td>\n",
              "      <td>-0.949966</td>\n",
              "      <td>0.007530</td>\n",
              "      <td>-1.035752</td>\n",
              "      <td>-0.656924</td>\n",
              "      <td>0.249926</td>\n",
              "      <td>0.769953</td>\n",
              "      <td>-0.373805</td>\n",
              "      <td>0.643118</td>\n",
              "      <td>-1.299840</td>\n",
              "      <td>-0.471540</td>\n",
              "      <td>-0.475923</td>\n",
              "      <td>-0.182001</td>\n",
              "      <td>-0.637994</td>\n",
              "      <td>-1.387308</td>\n",
              "      <td>-0.473142</td>\n",
              "      <td>0.345273</td>\n",
              "      <td>0.978859</td>\n",
              "      <td>0.119935</td>\n",
              "      <td>0.497244</td>\n",
              "      <td>0.508341</td>\n",
              "      <td>-0.627121</td>\n",
              "      <td>0.796332</td>\n",
              "      <td>0.082743</td>\n",
              "      <td>0.341832</td>\n",
              "      <td>-0.163256</td>\n",
              "      <td>-0.425674</td>\n",
              "      <td>1.364324</td>\n",
              "      <td>0.159032</td>\n",
              "      <td>0.572621</td>\n",
              "      <td>-0.465304</td>\n",
              "      <td>0.990221</td>\n",
              "      <td>0.857448</td>\n",
              "      <td>-0.785950</td>\n",
              "      <td>-0.101550</td>\n",
              "      <td>-0.606481</td>\n",
              "      <td>0.417716</td>\n",
              "      <td>0.241018</td>\n",
              "      <td>-1.499050</td>\n",
              "      <td>-0.902390</td>\n",
              "      <td>-0.168070</td>\n",
              "    </tr>\n",
              "  </tbody>\n",
              "</table>\n",
              "<p>5 rows × 100 columns</p>\n",
              "</div>"
            ],
            "text/plain": [
              "         0         1         2   ...        97        98        99\n",
              "0 -0.302932  0.210181  0.504311  ... -1.498186 -0.870828 -0.155022\n",
              "1 -0.326260  0.194121  0.530934  ... -1.558069 -0.762818 -0.188279\n",
              "2 -0.302805  0.235721  0.531394  ... -1.506673 -0.833007 -0.266296\n",
              "3 -0.266547  0.230284  0.524299  ... -1.511592 -0.806170 -0.163423\n",
              "4 -0.273028  0.242695  0.534992  ... -1.499050 -0.902390 -0.168070\n",
              "\n",
              "[5 rows x 100 columns]"
            ]
          },
          "metadata": {
            "tags": []
          },
          "execution_count": 500
        }
      ]
    },
    {
      "cell_type": "code",
      "metadata": {
        "colab": {
          "base_uri": "https://localhost:8080/"
        },
        "id": "HoUNE3u0gYuw",
        "outputId": "5e93deda-7222-489d-b50c-3611d5d35c2a"
      },
      "source": [
        "# Is there missing values?\r\n",
        "X.isnull().sum()"
      ],
      "execution_count": null,
      "outputs": [
        {
          "output_type": "execute_result",
          "data": {
            "text/plain": [
              "0     10\n",
              "1     10\n",
              "2     10\n",
              "3     10\n",
              "4     10\n",
              "      ..\n",
              "95    10\n",
              "96    10\n",
              "97    10\n",
              "98    10\n",
              "99    10\n",
              "Length: 100, dtype: int64"
            ]
          },
          "metadata": {
            "tags": []
          },
          "execution_count": 501
        }
      ]
    },
    {
      "cell_type": "code",
      "metadata": {
        "id": "Tf86Xehtg2pK"
      },
      "source": [
        "X.fillna(X.median(), inplace= True)"
      ],
      "execution_count": null,
      "outputs": []
    },
    {
      "cell_type": "code",
      "metadata": {
        "colab": {
          "base_uri": "https://localhost:8080/"
        },
        "id": "w2YTa4S5hMPE",
        "outputId": "80c31762-cf83-48c7-9b68-c6099452720a"
      },
      "source": [
        "X.isnull().sum()"
      ],
      "execution_count": null,
      "outputs": [
        {
          "output_type": "execute_result",
          "data": {
            "text/plain": [
              "0     0\n",
              "1     0\n",
              "2     0\n",
              "3     0\n",
              "4     0\n",
              "     ..\n",
              "95    0\n",
              "96    0\n",
              "97    0\n",
              "98    0\n",
              "99    0\n",
              "Length: 100, dtype: int64"
            ]
          },
          "metadata": {
            "tags": []
          },
          "execution_count": 508
        }
      ]
    },
    {
      "cell_type": "code",
      "metadata": {
        "colab": {
          "base_uri": "https://localhost:8080/"
        },
        "id": "dLmXGaYjhmNG",
        "outputId": "e6afa1bd-0556-452e-e7c8-07273cd3b2ab"
      },
      "source": [
        "X.shape, y_train.shape"
      ],
      "execution_count": null,
      "outputs": [
        {
          "output_type": "execute_result",
          "data": {
            "text/plain": [
              "((31282, 100), (31282,))"
            ]
          },
          "metadata": {
            "tags": []
          },
          "execution_count": 511
        }
      ]
    },
    {
      "cell_type": "code",
      "metadata": {
        "colab": {
          "base_uri": "https://localhost:8080/"
        },
        "id": "kvsm4GYtaLDu",
        "outputId": "0d1b9f1b-41e2-4118-eaa7-044a86ad9c8e"
      },
      "source": [
        "# training\r\n",
        "model = LogisticRegression(max_iter = 300, solver='liblinear')\r\n",
        "model.fit(X, y_train)"
      ],
      "execution_count": null,
      "outputs": [
        {
          "output_type": "execute_result",
          "data": {
            "text/plain": [
              "LogisticRegression(C=1.0, class_weight=None, dual=False, fit_intercept=True,\n",
              "                   intercept_scaling=1, l1_ratio=None, max_iter=300,\n",
              "                   multi_class='auto', n_jobs=None, penalty='l2',\n",
              "                   random_state=None, solver='liblinear', tol=0.0001, verbose=0,\n",
              "                   warm_start=False)"
            ]
          },
          "metadata": {
            "tags": []
          },
          "execution_count": 516
        }
      ]
    },
    {
      "cell_type": "code",
      "metadata": {
        "id": "OmN_juxEdELK"
      },
      "source": [
        "# let'us reshape the vector test.\r\n",
        "test = X_test['vectors'].to_numpy()\r\n",
        "test = test.reshape(-1, 1)"
      ],
      "execution_count": null,
      "outputs": []
    },
    {
      "cell_type": "code",
      "metadata": {
        "id": "Z6oiWs6Rjucz"
      },
      "source": [
        "# Let us concatenate test \r\n",
        "test = np.concatenate(np.concatenate(test, axis = 0), axis = 0).reshape(-1, 100)"
      ],
      "execution_count": null,
      "outputs": []
    },
    {
      "cell_type": "code",
      "metadata": {
        "id": "fp0sPP0ej4hs"
      },
      "source": [
        "# Let us create a dataframe\r\n",
        "test = pd.DataFrame(test)"
      ],
      "execution_count": null,
      "outputs": []
    },
    {
      "cell_type": "code",
      "metadata": {
        "colab": {
          "base_uri": "https://localhost:8080/",
          "height": 244
        },
        "id": "oPDnDsPNkBMc",
        "outputId": "95c52a6f-d8a0-40b3-9c79-0a203bacfe21"
      },
      "source": [
        "## head\r\n",
        "test.head()"
      ],
      "execution_count": null,
      "outputs": [
        {
          "output_type": "execute_result",
          "data": {
            "text/html": [
              "<div>\n",
              "<style scoped>\n",
              "    .dataframe tbody tr th:only-of-type {\n",
              "        vertical-align: middle;\n",
              "    }\n",
              "\n",
              "    .dataframe tbody tr th {\n",
              "        vertical-align: top;\n",
              "    }\n",
              "\n",
              "    .dataframe thead th {\n",
              "        text-align: right;\n",
              "    }\n",
              "</style>\n",
              "<table border=\"1\" class=\"dataframe\">\n",
              "  <thead>\n",
              "    <tr style=\"text-align: right;\">\n",
              "      <th></th>\n",
              "      <th>0</th>\n",
              "      <th>1</th>\n",
              "      <th>2</th>\n",
              "      <th>3</th>\n",
              "      <th>4</th>\n",
              "      <th>5</th>\n",
              "      <th>6</th>\n",
              "      <th>7</th>\n",
              "      <th>8</th>\n",
              "      <th>9</th>\n",
              "      <th>10</th>\n",
              "      <th>11</th>\n",
              "      <th>12</th>\n",
              "      <th>13</th>\n",
              "      <th>14</th>\n",
              "      <th>15</th>\n",
              "      <th>16</th>\n",
              "      <th>17</th>\n",
              "      <th>18</th>\n",
              "      <th>19</th>\n",
              "      <th>20</th>\n",
              "      <th>21</th>\n",
              "      <th>22</th>\n",
              "      <th>23</th>\n",
              "      <th>24</th>\n",
              "      <th>25</th>\n",
              "      <th>26</th>\n",
              "      <th>27</th>\n",
              "      <th>28</th>\n",
              "      <th>29</th>\n",
              "      <th>30</th>\n",
              "      <th>31</th>\n",
              "      <th>32</th>\n",
              "      <th>33</th>\n",
              "      <th>34</th>\n",
              "      <th>35</th>\n",
              "      <th>36</th>\n",
              "      <th>37</th>\n",
              "      <th>38</th>\n",
              "      <th>39</th>\n",
              "      <th>...</th>\n",
              "      <th>60</th>\n",
              "      <th>61</th>\n",
              "      <th>62</th>\n",
              "      <th>63</th>\n",
              "      <th>64</th>\n",
              "      <th>65</th>\n",
              "      <th>66</th>\n",
              "      <th>67</th>\n",
              "      <th>68</th>\n",
              "      <th>69</th>\n",
              "      <th>70</th>\n",
              "      <th>71</th>\n",
              "      <th>72</th>\n",
              "      <th>73</th>\n",
              "      <th>74</th>\n",
              "      <th>75</th>\n",
              "      <th>76</th>\n",
              "      <th>77</th>\n",
              "      <th>78</th>\n",
              "      <th>79</th>\n",
              "      <th>80</th>\n",
              "      <th>81</th>\n",
              "      <th>82</th>\n",
              "      <th>83</th>\n",
              "      <th>84</th>\n",
              "      <th>85</th>\n",
              "      <th>86</th>\n",
              "      <th>87</th>\n",
              "      <th>88</th>\n",
              "      <th>89</th>\n",
              "      <th>90</th>\n",
              "      <th>91</th>\n",
              "      <th>92</th>\n",
              "      <th>93</th>\n",
              "      <th>94</th>\n",
              "      <th>95</th>\n",
              "      <th>96</th>\n",
              "      <th>97</th>\n",
              "      <th>98</th>\n",
              "      <th>99</th>\n",
              "    </tr>\n",
              "  </thead>\n",
              "  <tbody>\n",
              "    <tr>\n",
              "      <th>0</th>\n",
              "      <td>-0.281978</td>\n",
              "      <td>0.241281</td>\n",
              "      <td>0.524706</td>\n",
              "      <td>-0.068515</td>\n",
              "      <td>-0.797961</td>\n",
              "      <td>0.028914</td>\n",
              "      <td>-0.386665</td>\n",
              "      <td>-1.007856</td>\n",
              "      <td>-0.186638</td>\n",
              "      <td>0.492591</td>\n",
              "      <td>1.005359</td>\n",
              "      <td>0.655622</td>\n",
              "      <td>0.233683</td>\n",
              "      <td>-1.045781</td>\n",
              "      <td>-0.040699</td>\n",
              "      <td>0.707266</td>\n",
              "      <td>-0.789764</td>\n",
              "      <td>-0.532712</td>\n",
              "      <td>-0.680423</td>\n",
              "      <td>0.092581</td>\n",
              "      <td>0.163283</td>\n",
              "      <td>-0.531369</td>\n",
              "      <td>-0.266772</td>\n",
              "      <td>0.719804</td>\n",
              "      <td>-1.240962</td>\n",
              "      <td>0.250695</td>\n",
              "      <td>0.744999</td>\n",
              "      <td>0.035760</td>\n",
              "      <td>-0.279861</td>\n",
              "      <td>0.350820</td>\n",
              "      <td>-0.114402</td>\n",
              "      <td>-0.298334</td>\n",
              "      <td>-1.028891</td>\n",
              "      <td>-0.525283</td>\n",
              "      <td>-0.109949</td>\n",
              "      <td>0.189891</td>\n",
              "      <td>-0.253703</td>\n",
              "      <td>-0.702384</td>\n",
              "      <td>0.680644</td>\n",
              "      <td>1.691540</td>\n",
              "      <td>...</td>\n",
              "      <td>-0.980134</td>\n",
              "      <td>-0.008478</td>\n",
              "      <td>-1.099561</td>\n",
              "      <td>-0.709589</td>\n",
              "      <td>0.174824</td>\n",
              "      <td>0.746607</td>\n",
              "      <td>-0.371289</td>\n",
              "      <td>0.646853</td>\n",
              "      <td>-1.330041</td>\n",
              "      <td>-0.483057</td>\n",
              "      <td>-0.442519</td>\n",
              "      <td>-0.181856</td>\n",
              "      <td>-0.602687</td>\n",
              "      <td>-1.436153</td>\n",
              "      <td>-0.608760</td>\n",
              "      <td>0.360928</td>\n",
              "      <td>1.066005</td>\n",
              "      <td>0.176554</td>\n",
              "      <td>0.495854</td>\n",
              "      <td>0.469069</td>\n",
              "      <td>-0.645265</td>\n",
              "      <td>0.820101</td>\n",
              "      <td>-0.006556</td>\n",
              "      <td>0.334400</td>\n",
              "      <td>-0.219276</td>\n",
              "      <td>-0.429046</td>\n",
              "      <td>1.365295</td>\n",
              "      <td>0.084522</td>\n",
              "      <td>0.625638</td>\n",
              "      <td>-0.438308</td>\n",
              "      <td>1.034686</td>\n",
              "      <td>0.861979</td>\n",
              "      <td>-0.871690</td>\n",
              "      <td>0.000259</td>\n",
              "      <td>-0.677506</td>\n",
              "      <td>0.502124</td>\n",
              "      <td>0.239919</td>\n",
              "      <td>-1.543912</td>\n",
              "      <td>-0.807618</td>\n",
              "      <td>-0.228773</td>\n",
              "    </tr>\n",
              "    <tr>\n",
              "      <th>1</th>\n",
              "      <td>-0.290033</td>\n",
              "      <td>0.275812</td>\n",
              "      <td>0.467631</td>\n",
              "      <td>-0.060221</td>\n",
              "      <td>-0.805425</td>\n",
              "      <td>0.011114</td>\n",
              "      <td>-0.390547</td>\n",
              "      <td>-0.988300</td>\n",
              "      <td>-0.123896</td>\n",
              "      <td>0.544175</td>\n",
              "      <td>0.917619</td>\n",
              "      <td>0.577088</td>\n",
              "      <td>0.303834</td>\n",
              "      <td>-1.043533</td>\n",
              "      <td>-0.019714</td>\n",
              "      <td>0.669605</td>\n",
              "      <td>-0.708264</td>\n",
              "      <td>-0.500264</td>\n",
              "      <td>-0.684888</td>\n",
              "      <td>0.065726</td>\n",
              "      <td>0.162988</td>\n",
              "      <td>-0.496685</td>\n",
              "      <td>-0.330316</td>\n",
              "      <td>0.706996</td>\n",
              "      <td>-1.157105</td>\n",
              "      <td>0.244365</td>\n",
              "      <td>0.769018</td>\n",
              "      <td>-0.029738</td>\n",
              "      <td>-0.260361</td>\n",
              "      <td>0.312954</td>\n",
              "      <td>-0.119230</td>\n",
              "      <td>-0.342325</td>\n",
              "      <td>-1.039076</td>\n",
              "      <td>-0.520704</td>\n",
              "      <td>-0.079491</td>\n",
              "      <td>0.214935</td>\n",
              "      <td>-0.251038</td>\n",
              "      <td>-0.670823</td>\n",
              "      <td>0.663475</td>\n",
              "      <td>1.768568</td>\n",
              "      <td>...</td>\n",
              "      <td>-0.987120</td>\n",
              "      <td>0.025709</td>\n",
              "      <td>-1.043753</td>\n",
              "      <td>-0.682246</td>\n",
              "      <td>0.275685</td>\n",
              "      <td>0.747600</td>\n",
              "      <td>-0.318339</td>\n",
              "      <td>0.650570</td>\n",
              "      <td>-1.294651</td>\n",
              "      <td>-0.468097</td>\n",
              "      <td>-0.477218</td>\n",
              "      <td>-0.273633</td>\n",
              "      <td>-0.610989</td>\n",
              "      <td>-1.336203</td>\n",
              "      <td>-0.560546</td>\n",
              "      <td>0.335145</td>\n",
              "      <td>1.058244</td>\n",
              "      <td>0.112568</td>\n",
              "      <td>0.522138</td>\n",
              "      <td>0.479541</td>\n",
              "      <td>-0.571938</td>\n",
              "      <td>0.779191</td>\n",
              "      <td>0.053927</td>\n",
              "      <td>0.377269</td>\n",
              "      <td>-0.260905</td>\n",
              "      <td>-0.430309</td>\n",
              "      <td>1.348912</td>\n",
              "      <td>0.163396</td>\n",
              "      <td>0.498930</td>\n",
              "      <td>-0.452852</td>\n",
              "      <td>1.000572</td>\n",
              "      <td>0.875882</td>\n",
              "      <td>-0.869336</td>\n",
              "      <td>-0.042124</td>\n",
              "      <td>-0.648224</td>\n",
              "      <td>0.446469</td>\n",
              "      <td>0.238007</td>\n",
              "      <td>-1.489052</td>\n",
              "      <td>-0.862928</td>\n",
              "      <td>-0.202670</td>\n",
              "    </tr>\n",
              "    <tr>\n",
              "      <th>2</th>\n",
              "      <td>-0.233073</td>\n",
              "      <td>0.245586</td>\n",
              "      <td>0.468758</td>\n",
              "      <td>-0.034680</td>\n",
              "      <td>-0.717961</td>\n",
              "      <td>0.029817</td>\n",
              "      <td>-0.355039</td>\n",
              "      <td>-0.926343</td>\n",
              "      <td>-0.186489</td>\n",
              "      <td>0.456298</td>\n",
              "      <td>0.915171</td>\n",
              "      <td>0.584864</td>\n",
              "      <td>0.252739</td>\n",
              "      <td>-0.976102</td>\n",
              "      <td>-0.017512</td>\n",
              "      <td>0.654434</td>\n",
              "      <td>-0.742986</td>\n",
              "      <td>-0.465623</td>\n",
              "      <td>-0.652283</td>\n",
              "      <td>0.104780</td>\n",
              "      <td>0.140731</td>\n",
              "      <td>-0.487232</td>\n",
              "      <td>-0.256934</td>\n",
              "      <td>0.683236</td>\n",
              "      <td>-1.130100</td>\n",
              "      <td>0.228985</td>\n",
              "      <td>0.675232</td>\n",
              "      <td>0.020636</td>\n",
              "      <td>-0.286079</td>\n",
              "      <td>0.331436</td>\n",
              "      <td>-0.129402</td>\n",
              "      <td>-0.363734</td>\n",
              "      <td>-0.916458</td>\n",
              "      <td>-0.448643</td>\n",
              "      <td>-0.104298</td>\n",
              "      <td>0.195413</td>\n",
              "      <td>-0.167749</td>\n",
              "      <td>-0.647672</td>\n",
              "      <td>0.567925</td>\n",
              "      <td>1.621895</td>\n",
              "      <td>...</td>\n",
              "      <td>-0.922423</td>\n",
              "      <td>0.054077</td>\n",
              "      <td>-0.939599</td>\n",
              "      <td>-0.626755</td>\n",
              "      <td>0.212898</td>\n",
              "      <td>0.673628</td>\n",
              "      <td>-0.322836</td>\n",
              "      <td>0.562949</td>\n",
              "      <td>-1.250054</td>\n",
              "      <td>-0.429721</td>\n",
              "      <td>-0.412899</td>\n",
              "      <td>-0.158151</td>\n",
              "      <td>-0.519375</td>\n",
              "      <td>-1.297103</td>\n",
              "      <td>-0.614968</td>\n",
              "      <td>0.336118</td>\n",
              "      <td>0.968849</td>\n",
              "      <td>0.148328</td>\n",
              "      <td>0.486548</td>\n",
              "      <td>0.470286</td>\n",
              "      <td>-0.535652</td>\n",
              "      <td>0.725640</td>\n",
              "      <td>-0.019528</td>\n",
              "      <td>0.341093</td>\n",
              "      <td>-0.235535</td>\n",
              "      <td>-0.330495</td>\n",
              "      <td>1.229715</td>\n",
              "      <td>0.124253</td>\n",
              "      <td>0.559756</td>\n",
              "      <td>-0.387156</td>\n",
              "      <td>1.036229</td>\n",
              "      <td>0.762350</td>\n",
              "      <td>-0.842274</td>\n",
              "      <td>-0.018355</td>\n",
              "      <td>-0.601584</td>\n",
              "      <td>0.485452</td>\n",
              "      <td>0.211031</td>\n",
              "      <td>-1.402716</td>\n",
              "      <td>-0.729757</td>\n",
              "      <td>-0.175507</td>\n",
              "    </tr>\n",
              "    <tr>\n",
              "      <th>3</th>\n",
              "      <td>-0.318192</td>\n",
              "      <td>0.166533</td>\n",
              "      <td>0.529024</td>\n",
              "      <td>-0.032700</td>\n",
              "      <td>-0.830658</td>\n",
              "      <td>0.006584</td>\n",
              "      <td>-0.359497</td>\n",
              "      <td>-0.915494</td>\n",
              "      <td>-0.177736</td>\n",
              "      <td>0.442407</td>\n",
              "      <td>0.896791</td>\n",
              "      <td>0.597439</td>\n",
              "      <td>0.224538</td>\n",
              "      <td>-0.977090</td>\n",
              "      <td>-0.005653</td>\n",
              "      <td>0.663943</td>\n",
              "      <td>-0.733853</td>\n",
              "      <td>-0.564713</td>\n",
              "      <td>-0.679636</td>\n",
              "      <td>0.055158</td>\n",
              "      <td>0.133934</td>\n",
              "      <td>-0.462052</td>\n",
              "      <td>-0.330226</td>\n",
              "      <td>0.696918</td>\n",
              "      <td>-1.218904</td>\n",
              "      <td>0.282984</td>\n",
              "      <td>0.698685</td>\n",
              "      <td>-0.014015</td>\n",
              "      <td>-0.272600</td>\n",
              "      <td>0.351476</td>\n",
              "      <td>-0.054907</td>\n",
              "      <td>-0.175191</td>\n",
              "      <td>-0.952369</td>\n",
              "      <td>-0.503835</td>\n",
              "      <td>-0.132694</td>\n",
              "      <td>0.239431</td>\n",
              "      <td>-0.263673</td>\n",
              "      <td>-0.590946</td>\n",
              "      <td>0.592079</td>\n",
              "      <td>1.582187</td>\n",
              "      <td>...</td>\n",
              "      <td>-0.877713</td>\n",
              "      <td>0.053956</td>\n",
              "      <td>-1.069453</td>\n",
              "      <td>-0.682599</td>\n",
              "      <td>0.159140</td>\n",
              "      <td>0.729202</td>\n",
              "      <td>-0.371105</td>\n",
              "      <td>0.558756</td>\n",
              "      <td>-1.261502</td>\n",
              "      <td>-0.456972</td>\n",
              "      <td>-0.420165</td>\n",
              "      <td>-0.201521</td>\n",
              "      <td>-0.606354</td>\n",
              "      <td>-1.371837</td>\n",
              "      <td>-0.557725</td>\n",
              "      <td>0.246778</td>\n",
              "      <td>1.012498</td>\n",
              "      <td>0.145183</td>\n",
              "      <td>0.462496</td>\n",
              "      <td>0.441000</td>\n",
              "      <td>-0.588991</td>\n",
              "      <td>0.697738</td>\n",
              "      <td>0.007629</td>\n",
              "      <td>0.274712</td>\n",
              "      <td>-0.125279</td>\n",
              "      <td>-0.399635</td>\n",
              "      <td>1.245374</td>\n",
              "      <td>0.108170</td>\n",
              "      <td>0.582967</td>\n",
              "      <td>-0.475245</td>\n",
              "      <td>0.899764</td>\n",
              "      <td>0.796618</td>\n",
              "      <td>-0.778121</td>\n",
              "      <td>-0.072104</td>\n",
              "      <td>-0.664643</td>\n",
              "      <td>0.478127</td>\n",
              "      <td>0.219358</td>\n",
              "      <td>-1.498716</td>\n",
              "      <td>-0.776358</td>\n",
              "      <td>-0.158648</td>\n",
              "    </tr>\n",
              "    <tr>\n",
              "      <th>4</th>\n",
              "      <td>-0.289422</td>\n",
              "      <td>0.252157</td>\n",
              "      <td>0.466763</td>\n",
              "      <td>-0.089181</td>\n",
              "      <td>-0.738955</td>\n",
              "      <td>-0.020085</td>\n",
              "      <td>-0.324471</td>\n",
              "      <td>-0.998913</td>\n",
              "      <td>-0.157126</td>\n",
              "      <td>0.521654</td>\n",
              "      <td>0.935622</td>\n",
              "      <td>0.630190</td>\n",
              "      <td>0.221978</td>\n",
              "      <td>-1.013234</td>\n",
              "      <td>-0.044071</td>\n",
              "      <td>0.662064</td>\n",
              "      <td>-0.739587</td>\n",
              "      <td>-0.487200</td>\n",
              "      <td>-0.619686</td>\n",
              "      <td>0.018003</td>\n",
              "      <td>0.164192</td>\n",
              "      <td>-0.520852</td>\n",
              "      <td>-0.268776</td>\n",
              "      <td>0.663364</td>\n",
              "      <td>-1.121151</td>\n",
              "      <td>0.284627</td>\n",
              "      <td>0.738014</td>\n",
              "      <td>0.048623</td>\n",
              "      <td>-0.264325</td>\n",
              "      <td>0.338017</td>\n",
              "      <td>-0.098608</td>\n",
              "      <td>-0.286312</td>\n",
              "      <td>-0.996675</td>\n",
              "      <td>-0.478249</td>\n",
              "      <td>-0.096248</td>\n",
              "      <td>0.162876</td>\n",
              "      <td>-0.223180</td>\n",
              "      <td>-0.656437</td>\n",
              "      <td>0.654721</td>\n",
              "      <td>1.620503</td>\n",
              "      <td>...</td>\n",
              "      <td>-0.915199</td>\n",
              "      <td>0.014224</td>\n",
              "      <td>-1.046213</td>\n",
              "      <td>-0.676170</td>\n",
              "      <td>0.173454</td>\n",
              "      <td>0.725633</td>\n",
              "      <td>-0.367045</td>\n",
              "      <td>0.648171</td>\n",
              "      <td>-1.229600</td>\n",
              "      <td>-0.451351</td>\n",
              "      <td>-0.459809</td>\n",
              "      <td>-0.243189</td>\n",
              "      <td>-0.612267</td>\n",
              "      <td>-1.334691</td>\n",
              "      <td>-0.562710</td>\n",
              "      <td>0.352917</td>\n",
              "      <td>1.035818</td>\n",
              "      <td>0.152549</td>\n",
              "      <td>0.439835</td>\n",
              "      <td>0.441593</td>\n",
              "      <td>-0.596787</td>\n",
              "      <td>0.763190</td>\n",
              "      <td>-0.003145</td>\n",
              "      <td>0.329902</td>\n",
              "      <td>-0.277869</td>\n",
              "      <td>-0.437122</td>\n",
              "      <td>1.348368</td>\n",
              "      <td>0.105477</td>\n",
              "      <td>0.499402</td>\n",
              "      <td>-0.430382</td>\n",
              "      <td>0.948178</td>\n",
              "      <td>0.842210</td>\n",
              "      <td>-0.799496</td>\n",
              "      <td>-0.005111</td>\n",
              "      <td>-0.600619</td>\n",
              "      <td>0.442130</td>\n",
              "      <td>0.201819</td>\n",
              "      <td>-1.461709</td>\n",
              "      <td>-0.811365</td>\n",
              "      <td>-0.200052</td>\n",
              "    </tr>\n",
              "  </tbody>\n",
              "</table>\n",
              "<p>5 rows × 100 columns</p>\n",
              "</div>"
            ],
            "text/plain": [
              "         0         1         2   ...        97        98        99\n",
              "0 -0.281978  0.241281  0.524706  ... -1.543912 -0.807618 -0.228773\n",
              "1 -0.290033  0.275812  0.467631  ... -1.489052 -0.862928 -0.202670\n",
              "2 -0.233073  0.245586  0.468758  ... -1.402716 -0.729757 -0.175507\n",
              "3 -0.318192  0.166533  0.529024  ... -1.498716 -0.776358 -0.158648\n",
              "4 -0.289422  0.252157  0.466763  ... -1.461709 -0.811365 -0.200052\n",
              "\n",
              "[5 rows x 100 columns]"
            ]
          },
          "metadata": {
            "tags": []
          },
          "execution_count": 559
        }
      ]
    },
    {
      "cell_type": "code",
      "metadata": {
        "colab": {
          "base_uri": "https://localhost:8080/"
        },
        "id": "JB4qJhkPkD-P",
        "outputId": "9be81811-7a8d-4756-e8ef-7485b14802d6"
      },
      "source": [
        "## missing values\r\n",
        "test.isnull().sum()"
      ],
      "execution_count": null,
      "outputs": [
        {
          "output_type": "execute_result",
          "data": {
            "text/plain": [
              "0     5\n",
              "1     5\n",
              "2     5\n",
              "3     5\n",
              "4     5\n",
              "     ..\n",
              "95    5\n",
              "96    5\n",
              "97    5\n",
              "98    5\n",
              "99    5\n",
              "Length: 100, dtype: int64"
            ]
          },
          "metadata": {
            "tags": []
          },
          "execution_count": 522
        }
      ]
    },
    {
      "cell_type": "code",
      "metadata": {
        "id": "dyooyiGNkMT8"
      },
      "source": [
        "## filling missing values\r\n",
        "test.fillna(test.median(), inplace= True)"
      ],
      "execution_count": null,
      "outputs": []
    },
    {
      "cell_type": "code",
      "metadata": {
        "id": "-vLKaR_Balx7"
      },
      "source": [
        "prediction = model.predict(test)"
      ],
      "execution_count": null,
      "outputs": []
    },
    {
      "cell_type": "code",
      "metadata": {
        "colab": {
          "base_uri": "https://localhost:8080/"
        },
        "id": "MMn0t7Ookfrt",
        "outputId": "c6f19d49-bbd1-47fb-cf4c-2d2de69d53a2"
      },
      "source": [
        "## accuracy\r\n",
        "accuracy_score(y_true= y_test, y_pred= prediction)"
      ],
      "execution_count": null,
      "outputs": [
        {
          "output_type": "execute_result",
          "data": {
            "text/plain": [
              "0.8782725441933319"
            ]
          },
          "metadata": {
            "tags": []
          },
          "execution_count": 527
        }
      ]
    },
    {
      "cell_type": "code",
      "metadata": {
        "colab": {
          "base_uri": "https://localhost:8080/",
          "height": 265
        },
        "id": "tIK9B6hvm9Lh",
        "outputId": "6ccd23a4-fe86-4bd3-8820-d07a22c9b6c6"
      },
      "source": [
        "y_pred_proba = model.predict_proba(test)[::,1]\r\n",
        "fpr, tpr, _ = metrics.roc_curve(y_test,  y_pred_proba)\r\n",
        "auc = metrics.roc_auc_score(y_test, y_pred_proba)\r\n",
        "plt.figure()\r\n",
        "plt.plot(fpr,tpr,label=\"roc_auc curve \\n auc=\"+str(auc))\r\n",
        "plt.legend(loc=4)\r\n",
        "plt.title('roc_auc curve')\r\n",
        "plt.show()"
      ],
      "execution_count": null,
      "outputs": [
        {
          "output_type": "display_data",
          "data": {
            "image/png": "[encoded data removed]",
            "text/plain": [
              "<Figure size 432x288 with 1 Axes>"
            ]
          },
          "metadata": {
            "tags": [],
            "needs_background": "light"
          }
        }
      ]
    },
    {
      "cell_type": "markdown",
      "metadata": {
        "id": "JVLCiw9Pff1g"
      },
      "source": [
        "## The top 10 words associated with real news articles and fake news articles"
      ]
    },
    {
      "cell_type": "code",
      "metadata": {
        "id": "4cIlrlUXfiz_"
      },
      "source": [
        "## Let us define the index of the well-classified text.\r\n",
        "index_well_classified = []\r\n",
        "for i in range(len(test)):\r\n",
        "  if y_test.loc[i] == prediction[i]:\r\n",
        "    index_well_classified.append(i)"
      ],
      "execution_count": null,
      "outputs": []
    },
    {
      "cell_type": "code",
      "metadata": {
        "id": "T8gkAjCFsOtp"
      },
      "source": [
        "dic_frequency = {}\r\n",
        "count = 0\r\n",
        "for i in index_well_classified:\r\n",
        "  for text in X_test['Full_information'].values:\r\n",
        "    for word in text:\r\n",
        "      if len(word) >1:\r\n",
        "\r\n",
        "        dic_frequency[word] +=1"
      ],
      "execution_count": null,
      "outputs": []
    },
    {
      "cell_type": "markdown",
      "metadata": {
        "id": "Zh3UiORkw9YV"
      },
      "source": [
        "# Improving the score:\r\n",
        "\r\n",
        "- Increasing the dimensionality of vectors representation when we use word2vec method."
      ]
    }
  ]
}